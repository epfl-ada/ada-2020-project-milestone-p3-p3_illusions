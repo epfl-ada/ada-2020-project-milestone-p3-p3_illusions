{
 "cells": [
  {
   "cell_type": "code",
   "execution_count": 1,
   "metadata": {},
   "outputs": [],
   "source": [
    "import pandas as pd\n",
    "import numpy as np\n",
    "import math\n",
    "import matplotlib.pyplot as plt\n",
    "import seaborn as sns\n",
    "from astropy.table import QTable, Table, Column\n",
    "from sklearn.linear_model import LinearRegression\n",
    "from sklearn.metrics import mean_absolute_error as MAE\n",
    "from statsmodels.tsa.ar_model import AutoReg"
   ]
  },
  {
   "cell_type": "code",
   "execution_count": 4,
   "metadata": {},
   "outputs": [],
   "source": [
    "# Load the data\n",
    "GSK_2020 = pd.read_csv('data/GSK_2020.csv',index_col=0, parse_dates=True)\n",
    "JNJ_2020 = pd.read_csv('data/JNJ_2020.csv',index_col=0, parse_dates=True)"
   ]
  },
  {
   "cell_type": "code",
   "execution_count": 5,
   "metadata": {},
   "outputs": [],
   "source": [
    "#Add log value of price\n",
    "GSK_2020['log_Adj_Close'] = np.log(GSK_2020['Adj Close'])\n",
    "JNJ_2020['log_Adj_Close'] = np.log(JNJ_2020['Adj Close'])"
   ]
  },
  {
   "cell_type": "code",
   "execution_count": 40,
   "metadata": {},
   "outputs": [],
   "source": [
    "# Actual Value 1\n",
    "GSK_actual_2020 = GSK_2020['log_Adj_Close'][2:]\n",
    "JNJ_actual_2020 = JNJ_2020['log_Adj_Close'][2:]"
   ]
  },
  {
   "cell_type": "code",
   "execution_count": 43,
   "metadata": {},
   "outputs": [],
   "source": [
    "# Actual Value 2\n",
    "GSK_actual_2020 = GSK_2020['log_Adj_Close'][5:]\n",
    "JNJ_actual_2020 = JNJ_2020['log_Adj_Close'][5:]"
   ]
  },
  {
   "cell_type": "markdown",
   "metadata": {},
   "source": [
    "Base Prediction Model"
   ]
  },
  {
   "cell_type": "code",
   "execution_count": 7,
   "metadata": {},
   "outputs": [],
   "source": [
    "# model y_t = b_1 * y_t-1 + e_t\n",
    "def base_prediction_1(stock):\n",
    "    pred_base = []\n",
    "    base_xtrain = []\n",
    "    base_ytrain = []\n",
    "    for i in range(len(stock)-2):\n",
    "        base_xtrain.append(stock.iloc[i]['log_Adj_Close'])\n",
    "        base_ytrain.append(stock.iloc[i+1]['log_Adj_Close'])\n",
    "        # Reshape the list to array for model fitting\n",
    "        temp_x = np.array(base_xtrain).reshape(-1,1)\n",
    "        temp_y = np.array(base_ytrain).reshape(-1,1)\n",
    "        # Train the model with the training data set\n",
    "        model = LinearRegression().fit(temp_x, temp_y)\n",
    "        # Implement the model function to predict the value\n",
    "        yhat = np.dot(model.coef_, [stock.iloc[i+1]['log_Adj_Close']]) + model.intercept_\n",
    "        # Store the prediction \n",
    "        pred_base.append(yhat[0])\n",
    "        \n",
    "    return pred_base"
   ]
  },
  {
   "cell_type": "code",
   "execution_count": 8,
   "metadata": {},
   "outputs": [],
   "source": [
    "# model y_t = b_1 * y_t-1 + b_4 * y_t-4 + e_t\n",
    "def base_prediction_2(stock):\n",
    "    pred_base = []\n",
    "    base_xtrain = []\n",
    "    base_ytrain = []\n",
    "    for i in range(len(stock)-5):\n",
    "        base_xtrain.append([stock.iloc[i]['log_Adj_Close'],stock.iloc[i+3]['log_Adj_Close']])\n",
    "        base_ytrain.append(stock.iloc[i+4]['log_Adj_Close'])\n",
    "        # Reshape the list to array for model fitting\n",
    "        temp_x = np.array(base_xtrain).reshape(-1,2)\n",
    "        temp_y = np.array(base_ytrain).reshape(-1,1)\n",
    "        # Train the model with the training data set\n",
    "        model = LinearRegression().fit(temp_x, temp_y)\n",
    "        # Implement the model function to predict the value\n",
    "        yhat = np.dot(model.coef_, [stock.iloc[i+1]['log_Adj_Close'],stock.iloc[i+4]['log_Adj_Close']]) + model.intercept_\n",
    "        # Store the prediction \n",
    "        pred_base.append(yhat[0])\n",
    "        \n",
    "    return pred_base"
   ]
  },
  {
   "cell_type": "markdown",
   "metadata": {},
   "source": [
    "Trends Prediction Model"
   ]
  },
  {
   "cell_type": "code",
   "execution_count": 16,
   "metadata": {},
   "outputs": [],
   "source": [
    "def gt_prediction_1(stock, var):\n",
    "    pred_trends = []\n",
    "    trends_xtrain = []\n",
    "    trends_ytrain = []\n",
    "    for i in range(len(stock)-2):\n",
    "        trends_xtrain.append([stock.iloc[i]['log_Adj_Close'],stock.iloc[i+1][var]])\n",
    "        trends_ytrain.append(stock.iloc[i+1]['log_Adj_Close'])\n",
    "        # Reshape the list to array for model fitting\n",
    "        temp_x = np.array(trends_xtrain).reshape(-1,2)\n",
    "        temp_y = np.array(trends_ytrain).reshape(-1,1)\n",
    "        # Train the model with the training data set\n",
    "        model = LinearRegression().fit(temp_x, temp_y)\n",
    "        # Implement the model function to predict the value\n",
    "        yhat = np.dot(model.coef_, [stock.iloc[i+1]['log_Adj_Close'],stock.iloc[i+2][var]]) + model.intercept_\n",
    "        # Store the prediction \n",
    "        pred_trends.append(yhat[0])\n",
    "    print(model.coef_)\n",
    "    return pred_trends"
   ]
  },
  {
   "cell_type": "code",
   "execution_count": 10,
   "metadata": {},
   "outputs": [],
   "source": [
    "def gt_prediction_2(stock, var):\n",
    "    pred_trends = []\n",
    "    trends_xtrain = []\n",
    "    trends_ytrain = []\n",
    "    for i in range(len(stock)-5):\n",
    "        trends_xtrain.append([stock.iloc[i]['log_Adj_Close'],stock.iloc[i+3]['log_Adj_Close'], stock.iloc[i+4][var]])\n",
    "        trends_ytrain.append(stock.iloc[i+4]['log_Adj_Close'])\n",
    "        # Reshape the list to array for model fitting\n",
    "        temp_x = np.array(trends_xtrain).reshape(-1,3)\n",
    "        temp_y = np.array(trends_ytrain).reshape(-1,1)\n",
    "        # Train the model with the training data set\n",
    "        model = LinearRegression().fit(temp_x, temp_y)\n",
    "        # Implement the model function to predict the value\n",
    "        yhat = np.dot(model.coef_, [stock.iloc[i+1]['log_Adj_Close'],stock.iloc[i+4]['log_Adj_Close'],stock.iloc[i+5][var]]) + model.intercept_\n",
    "        # Store the prediction \n",
    "        pred_trends.append(yhat[0])\n",
    "    print(model.coef_)\n",
    "    return pred_trends"
   ]
  },
  {
   "cell_type": "markdown",
   "metadata": {},
   "source": [
    "Combination of the trends data"
   ]
  },
  {
   "cell_type": "code",
   "execution_count": 11,
   "metadata": {},
   "outputs": [],
   "source": [
    "def trends_prediction_1(stock):\n",
    "    pred_trends = []\n",
    "    trends_xtrain = []\n",
    "    trends_ytrain = []\n",
    "    for i in range(len(stock)-2):\n",
    "        trends_xtrain.append([stock.iloc[i]['log_Adj_Close'],stock.iloc[i+1]['Virus'],stock.iloc[i+1]['Vaccine'],stock.iloc[i+1]['Flu']])\n",
    "        trends_ytrain.append(stock.iloc[i+1]['log_Adj_Close'])\n",
    "        # Reshape the list to array for model fitting\n",
    "        temp_x = np.array(trends_xtrain).reshape(-1,4)\n",
    "        temp_y = np.array(trends_ytrain).reshape(-1,1)\n",
    "        # Train the model with the training data set\n",
    "        model = LinearRegression().fit(temp_x, temp_y)\n",
    "        # Implement the model function to predict the value\n",
    "        yhat = np.dot(model.coef_, [stock.iloc[i+1]['log_Adj_Close'],stock.iloc[i+2]['Virus'],stock.iloc[i+2]['Vaccine'],stock.iloc[i+2]['Flu']]) + model.intercept_\n",
    "        # Store the prediction \n",
    "        pred_trends.append(yhat[0])\n",
    "    print(model.coef_)\n",
    "    return pred_trends"
   ]
  },
  {
   "cell_type": "code",
   "execution_count": 12,
   "metadata": {},
   "outputs": [],
   "source": [
    "def trends_prediction_2(stock):\n",
    "    pred_trends = []\n",
    "    trends_xtrain = []\n",
    "    trends_ytrain = []\n",
    "    for i in range(len(stock)-5):\n",
    "        trends_xtrain.append([stock.iloc[i]['log_Adj_Close'],stock.iloc[i+3]['log_Adj_Close'],stock.iloc[i+4]['Virus'],stock.iloc[i+4]['Vaccine'],stock.iloc[i+4]['Flu']])\n",
    "        trends_ytrain.append(stock.iloc[i+4]['log_Adj_Close'])\n",
    "        # Reshape the list to array for model fitting\n",
    "        temp_x = np.array(trends_xtrain).reshape(-1,5)\n",
    "        temp_y = np.array(trends_ytrain).reshape(-1,1)\n",
    "        # Train the model with the training data set\n",
    "        model = LinearRegression().fit(temp_x, temp_y)\n",
    "        # Implement the model function to predict the value\n",
    "        yhat = np.dot(model.coef_, [stock.iloc[i+1]['log_Adj_Close'],stock.iloc[i+4]['log_Adj_Close'],stock.iloc[i+5]['Virus'],stock.iloc[i+5]['Vaccine'],stock.iloc[i+5]['Flu']]) + model.intercept_\n",
    "        # Store the prediction \n",
    "        pred_trends.append(yhat[0])\n",
    "    print(model.coef_)\n",
    "    return pred_trends"
   ]
  },
  {
   "cell_type": "markdown",
   "metadata": {},
   "source": [
    "## Build the two models and make the prediction, and report the MAE"
   ]
  },
  {
   "cell_type": "code",
   "execution_count": 38,
   "metadata": {},
   "outputs": [
    {
     "name": "stdout",
     "output_type": "stream",
     "text": [
      "[[ 8.08297079e-01 -6.08942403e-04]]\n",
      "[[ 0.36656439 -0.00129449]]\n",
      "[[ 7.69285279e-01 -5.23359483e-04]]\n",
      "[[ 7.00557052e-01 -2.86612532e-05]]\n",
      "[[ 8.16959379e-01 -7.97708982e-04]]\n",
      "[[ 0.4362448  -0.00124779]]\n",
      "[[ 0.71538931  0.00138703 -0.00084272 -0.00227031]]\n",
      "[[ 3.56059994e-01 -1.37995117e-03  1.97432130e-04  3.90234060e-05]]\n"
     ]
    }
   ],
   "source": [
    "GSK_base_2020 = base_prediction_1(GSK_2020)\n",
    "JNJ_base_2020 = base_prediction_1(JNJ_2020)\n",
    "GSK_virus_2020 = gt_prediction_1(GSK_2020, 'Virus')\n",
    "JNJ_virus_2020 = gt_prediction_1(JNJ_2020, 'Virus')\n",
    "GSK_vaccine_2020 = gt_prediction_1(GSK_2020, 'Vaccine')\n",
    "JNJ_vaccine_2020 = gt_prediction_1(JNJ_2020, 'Vaccine')\n",
    "GSK_flu_2020 = gt_prediction_1(GSK_2020, 'Flu')\n",
    "JNJ_flu_2020 = gt_prediction_1(JNJ_2020, 'Flu')\n",
    "GSK_trends_2020 = trends_prediction_1(GSK_2020)\n",
    "JNJ_trends_2020 = trends_prediction_1(JNJ_2020)"
   ]
  },
  {
   "cell_type": "code",
   "execution_count": 18,
   "metadata": {},
   "outputs": [],
   "source": [
    "MAE_GSK_base_2020_1 = MAE(GSK_base_2020,GSK_actual_2020)\n",
    "MAE_JNJ_base_2020_1 = MAE(JNJ_base_2020,JNJ_actual_2020)\n",
    "MAE_GSK_virus_2020_1 = MAE(GSK_virus_2020,GSK_actual_2020)\n",
    "MAE_JNJ_virus_2020_1 = MAE(JNJ_virus_2020,JNJ_actual_2020)\n",
    "MAE_GSK_vaccine_2020_1 = MAE(GSK_vaccine_2020,GSK_actual_2020)\n",
    "MAE_JNJ_vaccine_2020_1 = MAE(JNJ_vaccine_2020,JNJ_actual_2020)\n",
    "MAE_GSK_flu_2020_1 = MAE(GSK_flu_2020,GSK_actual_2020)\n",
    "MAE_JNJ_flu_2020_1 = MAE(JNJ_flu_2020,JNJ_actual_2020)\n",
    "MAE_GSK_trends_2020_1 = MAE(GSK_trends_2020,GSK_actual_2020)\n",
    "MAE_JNJ_trends_2020_1 = MAE(JNJ_trends_2020,JNJ_actual_2020)"
   ]
  },
  {
   "cell_type": "code",
   "execution_count": 44,
   "metadata": {},
   "outputs": [
    {
     "name": "stdout",
     "output_type": "stream",
     "text": [
      "[[ 4.84545158e-03  7.71592480e-01 -5.85415564e-04]]\n",
      "[[-0.21154806  0.34358499 -0.00148708]]\n",
      "[[-1.22701388e-01  8.05545559e-01 -6.12541003e-04]]\n",
      "[[-1.67797272e-01  7.40277355e-01 -1.30995043e-05]]\n",
      "[[ 0.04126677  0.75068853 -0.00083766]]\n",
      "[[-0.16176526  0.45260416 -0.00128782]]\n",
      "[[-0.02439599  0.71412095  0.00146047 -0.00078388 -0.00230058]]\n",
      "[[-2.29834780e-01  3.32860834e-01 -2.03291338e-03  1.69934704e-04\n",
      "   5.75603883e-04]]\n"
     ]
    }
   ],
   "source": [
    "GSK_base_2020 = base_prediction_2(GSK_2020)\n",
    "JNJ_base_2020 = base_prediction_2(JNJ_2020)\n",
    "GSK_virus_2020 = gt_prediction_2(GSK_2020, 'Virus')\n",
    "JNJ_virus_2020 = gt_prediction_2(JNJ_2020, 'Virus')\n",
    "GSK_vaccine_2020 = gt_prediction_2(GSK_2020, 'Vaccine')\n",
    "JNJ_vaccine_2020 = gt_prediction_2(JNJ_2020, 'Vaccine')\n",
    "GSK_flu_2020 = gt_prediction_2(GSK_2020, 'Flu')\n",
    "JNJ_flu_2020 = gt_prediction_2(JNJ_2020, 'Flu')\n",
    "GSK_trends_2020 = trends_prediction_2(GSK_2020)\n",
    "JNJ_trends_2020 = trends_prediction_2(JNJ_2020)"
   ]
  },
  {
   "cell_type": "code",
   "execution_count": 34,
   "metadata": {},
   "outputs": [],
   "source": [
    "MAE_GSK_base_2020_2 = MAE(GSK_base_2020,GSK_actual_2020)\n",
    "MAE_JNJ_base_2020_2 = MAE(JNJ_base_2020,JNJ_actual_2020)\n",
    "MAE_GSK_virus_2020_2 = MAE(GSK_virus_2020,GSK_actual_2020)\n",
    "MAE_JNJ_virus_2020_2 = MAE(JNJ_virus_2020,JNJ_actual_2020)\n",
    "MAE_GSK_vaccine_2020_2 = MAE(GSK_vaccine_2020,GSK_actual_2020)\n",
    "MAE_JNJ_vaccine_2020_2 = MAE(JNJ_vaccine_2020,JNJ_actual_2020)\n",
    "MAE_GSK_flu_2020_2 = MAE(GSK_flu_2020,GSK_actual_2020)\n",
    "MAE_JNJ_flu_2020_2 = MAE(JNJ_flu_2020,JNJ_actual_2020)\n",
    "MAE_GSK_trends_2020_2 = MAE(GSK_trends_2020,GSK_actual_2020)\n",
    "MAE_JNJ_trends_2020_2 = MAE(JNJ_trends_2020,JNJ_actual_2020)"
   ]
  },
  {
   "cell_type": "code",
   "execution_count": 47,
   "metadata": {},
   "outputs": [
    {
     "name": "stdout",
     "output_type": "stream",
     "text": [
      " Behavio of MAE around Turning Points - Model 1\n",
      "  MAE Type    GSK     JNJ  \n",
      "----------- ------- -------\n",
      "   Base MAE 0.03423 0.02968\n",
      " Trends MAE 0.03773 0.03284\n",
      "Vaccine MAE 0.03794  0.0348\n",
      "  Virus MAE 0.03766 0.02736\n",
      "    Flu MAE 0.03852 0.02927\n"
     ]
    }
   ],
   "source": [
    "# Make the table\n",
    "data_rows = ([\"Base MAE\", round(MAE_GSK_base_2020_1, 5), round(MAE_JNJ_base_2020_1, 5)],\n",
    "             [\"Trends MAE\", round(MAE_GSK_trends_2020_1, 5), round(MAE_JNJ_trends_2020_1, 5)],\n",
    "            [\"Vaccine MAE\", round(MAE_GSK_vaccine_2020_1, 5), round(MAE_JNJ_vaccine_2020_1, 5)],\n",
    "            [\"Virus MAE\", round(MAE_GSK_virus_2020_1, 5), round(MAE_JNJ_virus_2020_1, 5)],\n",
    "            [\"Flu MAE\", round(MAE_GSK_flu_2020_1, 5), round(MAE_JNJ_flu_2020_1, 5)])\n",
    "t1 = Table(rows=data_rows, names=('MAE Type', 'GSK', 'JNJ'))\n",
    "print(' Behavio of MAE around Turning Points - Model 1')\n",
    "print(t1)"
   ]
  },
  {
   "cell_type": "code",
   "execution_count": 48,
   "metadata": {},
   "outputs": [
    {
     "name": "stdout",
     "output_type": "stream",
     "text": [
      " Behavio of MAE around Turning Points - Model 2\n",
      "  MAE Type    GSK     JNJ  \n",
      "----------- ------- -------\n",
      "   Base MAE 0.03615 0.02877\n",
      " Trends MAE 0.07762 0.06155\n",
      "Vaccine MAE 0.03896 0.03802\n",
      "  Virus MAE 0.03985 0.02758\n",
      "    Flu MAE 0.03988 0.03022\n"
     ]
    }
   ],
   "source": [
    "# Make the table\n",
    "data_rows = ([\"Base MAE\", round(MAE_GSK_base_2020_2, 5), round(MAE_JNJ_base_2020_2, 5)],\n",
    "             [\"Trends MAE\", round(MAE_GSK_trends_2020_2, 5), round(MAE_JNJ_trends_2020_2, 5)],\n",
    "            [\"Vaccine MAE\", round(MAE_GSK_vaccine_2020_2, 5), round(MAE_JNJ_vaccine_2020_2, 5)],\n",
    "            [\"Virus MAE\", round(MAE_GSK_virus_2020_2, 5), round(MAE_JNJ_virus_2020_2, 5)],\n",
    "            [\"Flu MAE\", round(MAE_GSK_flu_2020_2, 5), round(MAE_JNJ_flu_2020_2, 5)])\n",
    "t1 = Table(rows=data_rows, names=('MAE Type', 'GSK', 'JNJ'))\n",
    "print(' Behavio of MAE around Turning Points - Model 2')\n",
    "print(t1)"
   ]
  },
  {
   "cell_type": "code",
   "execution_count": null,
   "metadata": {},
   "outputs": [],
   "source": []
  }
 ],
 "metadata": {
  "kernelspec": {
   "display_name": "Python 3",
   "language": "python",
   "name": "python3"
  },
  "language_info": {
   "codemirror_mode": {
    "name": "ipython",
    "version": 3
   },
   "file_extension": ".py",
   "mimetype": "text/x-python",
   "name": "python",
   "nbconvert_exporter": "python",
   "pygments_lexer": "ipython3",
   "version": "3.8.3"
  }
 },
 "nbformat": 4,
 "nbformat_minor": 4
}
