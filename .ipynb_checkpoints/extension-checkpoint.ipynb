{
 "cells": [
  {
   "cell_type": "code",
   "execution_count": 351,
   "metadata": {},
   "outputs": [],
   "source": [
    "import pandas as pd\n",
    "import numpy as np\n",
    "import math\n",
    "import matplotlib.pyplot as plt\n",
    "import seaborn as sns\n",
    "from astropy.table import QTable, Table, Column\n",
    "from sklearn.linear_model import LinearRegression\n",
    "from sklearn.metrics import mean_absolute_error as MAE\n",
    "from statsmodels.tsa.ar_model import AutoReg"
   ]
  },
  {
   "cell_type": "code",
   "execution_count": 352,
   "metadata": {},
   "outputs": [],
   "source": [
    "# Load the data\n",
    "GSK = pd.read_csv('data/GSK.csv',index_col=0, parse_dates=True)\n",
    "JNJ = pd.read_csv('data/JNJ.csv',index_col=0, parse_dates=True)\n",
    "MRK = pd.read_csv('data/MRK.csv',index_col=0, parse_dates=True)\n",
    "PFE = pd.read_csv('data/PFE.csv',index_col=0, parse_dates=True)\n",
    "SNY = pd.read_csv('data/SNY.csv',index_col=0, parse_dates=True)"
   ]
  },
  {
   "cell_type": "code",
   "execution_count": 353,
   "metadata": {},
   "outputs": [
    {
     "data": {
      "text/html": [
       "<div>\n",
       "<style scoped>\n",
       "    .dataframe tbody tr th:only-of-type {\n",
       "        vertical-align: middle;\n",
       "    }\n",
       "\n",
       "    .dataframe tbody tr th {\n",
       "        vertical-align: top;\n",
       "    }\n",
       "\n",
       "    .dataframe thead th {\n",
       "        text-align: right;\n",
       "    }\n",
       "</style>\n",
       "<table border=\"1\" class=\"dataframe\">\n",
       "  <thead>\n",
       "    <tr style=\"text-align: right;\">\n",
       "      <th></th>\n",
       "      <th>Virus</th>\n",
       "      <th>Flu</th>\n",
       "      <th>Vaccine</th>\n",
       "      <th>Policy</th>\n",
       "    </tr>\n",
       "    <tr>\n",
       "      <th>Date</th>\n",
       "      <th></th>\n",
       "      <th></th>\n",
       "      <th></th>\n",
       "      <th></th>\n",
       "    </tr>\n",
       "  </thead>\n",
       "  <tbody>\n",
       "    <tr>\n",
       "      <th>2010-11-01</th>\n",
       "      <td>5</td>\n",
       "      <td>12</td>\n",
       "      <td>13</td>\n",
       "      <td>0</td>\n",
       "    </tr>\n",
       "    <tr>\n",
       "      <th>2010-12-01</th>\n",
       "      <td>5</td>\n",
       "      <td>16</td>\n",
       "      <td>9</td>\n",
       "      <td>0</td>\n",
       "    </tr>\n",
       "    <tr>\n",
       "      <th>2011-01-01</th>\n",
       "      <td>5</td>\n",
       "      <td>18</td>\n",
       "      <td>12</td>\n",
       "      <td>0</td>\n",
       "    </tr>\n",
       "    <tr>\n",
       "      <th>2011-02-01</th>\n",
       "      <td>5</td>\n",
       "      <td>13</td>\n",
       "      <td>12</td>\n",
       "      <td>0</td>\n",
       "    </tr>\n",
       "    <tr>\n",
       "      <th>2011-03-01</th>\n",
       "      <td>5</td>\n",
       "      <td>9</td>\n",
       "      <td>13</td>\n",
       "      <td>0</td>\n",
       "    </tr>\n",
       "  </tbody>\n",
       "</table>\n",
       "</div>"
      ],
      "text/plain": [
       "            Virus  Flu  Vaccine  Policy\n",
       "Date                                   \n",
       "2010-11-01      5   12       13       0\n",
       "2010-12-01      5   16        9       0\n",
       "2011-01-01      5   18       12       0\n",
       "2011-02-01      5   13       12       0\n",
       "2011-03-01      5    9       13       0"
      ]
     },
     "execution_count": 353,
     "metadata": {},
     "output_type": "execute_result"
    }
   ],
   "source": [
    "# Get the trends data\n",
    "trends = GSK[['Virus', 'Flu', 'Vaccine', 'Policy']]\n",
    "trends.head()"
   ]
  },
  {
   "cell_type": "code",
   "execution_count": 5,
   "metadata": {},
   "outputs": [
    {
     "data": {
      "text/plain": [
       "Text(0, 0.5, 'Score')"
      ]
     },
     "execution_count": 5,
     "metadata": {},
     "output_type": "execute_result"
    },
    {
     "data": {
      "image/png": "[encoded data removed]",
      "text/plain": [
       "<Figure size 432x288 with 1 Axes>"
      ]
     },
     "metadata": {
      "needs_background": "light"
     },
     "output_type": "display_data"
    }
   ],
   "source": [
    "# Visualize the trends data\n",
    "plt.plot(trends.index, trends['Virus'], color = 'black', label = 'Virus')\n",
    "plt.plot(trends.index, trends['Flu'], color = 'black', label = 'Flu', linestyle=\":\")\n",
    "plt.plot(trends.index, trends['Vaccine'], color = 'gray', label = 'Vaccine')\n",
    "plt.legend()\n",
    "plt.xlabel('Time')\n",
    "plt.ylabel('Score')"
   ]
  },
  {
   "cell_type": "code",
   "execution_count": 354,
   "metadata": {},
   "outputs": [],
   "source": [
    "GSK['log_Adj_Close'] = np.log(GSK['Adj Close'])\n",
    "JNJ['log_Adj_Close'] = np.log(JNJ['Adj Close'])\n",
    "MRK['log_Adj_Close'] = np.log(MRK['Adj Close'])\n",
    "PFE['log_Adj_Close'] = np.log(PFE['Adj Close'])\n",
    "SNY['log_Adj_Close'] = np.log(SNY['Adj Close'])"
   ]
  },
  {
   "cell_type": "code",
   "execution_count": 356,
   "metadata": {},
   "outputs": [
    {
     "name": "stderr",
     "output_type": "stream",
     "text": [
      "C:\\Users\\symay\\anaconda3\\lib\\site-packages\\statsmodels\\tsa\\base\\tsa_model.py:159: ValueWarning: No frequency information was provided, so inferred frequency MS will be used.\n",
      "  warnings.warn('No frequency information was'\n"
     ]
    },
    {
     "name": "stdout",
     "output_type": "stream",
     "text": [
      "                            AutoReg Model Results                             \n",
      "==============================================================================\n",
      "Dep. Variable:          log_Adj_Close   No. Observations:                  120\n",
      "Model:                   AutoReg-X(1)   Log Likelihood                 194.576\n",
      "Method:               Conditional MLE   S.D. of innovations              0.047\n",
      "Date:                Tue, 15 Dec 2020   AIC                             -5.990\n",
      "Time:                        03:22:24   BIC                             -5.827\n",
      "Sample:                    01-01-2011   HQIC                            -5.924\n",
      "                         - 11-01-2020                                         \n",
      "====================================================================================\n",
      "                       coef    std err          z      P>|z|      [0.025      0.975]\n",
      "------------------------------------------------------------------------------------\n",
      "intercept            0.3678      0.120      3.057      0.002       0.132       0.604\n",
      "log_Adj_Close.L1     0.8935      0.035     25.298      0.000       0.824       0.963\n",
      "Virus               -0.0006      0.001     -0.904      0.366      -0.002       0.001\n",
      "Flu               6.841e-05      0.001      0.129      0.897      -0.001       0.001\n",
      "Vaccine              0.0005      0.000      1.261      0.207      -0.000       0.001\n",
      "Policy             1.43e-05      0.000      0.076      0.939      -0.000       0.000\n",
      "                                    Roots                                    \n",
      "=============================================================================\n",
      "                  Real          Imaginary           Modulus         Frequency\n",
      "-----------------------------------------------------------------------------\n",
      "AR.1            1.1192           +0.0000j            1.1192            0.0000\n",
      "-----------------------------------------------------------------------------\n"
     ]
    }
   ],
   "source": [
    "model = AutoReg(GSK.iloc[1:]['log_Adj_Close'], exog = GSK.iloc[1:][['Virus','Flu','Vaccine','Policy']], lags=1)\n",
    "model_fit = model.fit()\n",
    "print(model_fit.summary())"
   ]
  },
  {
   "cell_type": "code",
   "execution_count": 357,
   "metadata": {},
   "outputs": [
    {
     "name": "stdout",
     "output_type": "stream",
     "text": [
      "                            AutoReg Model Results                             \n",
      "==============================================================================\n",
      "Dep. Variable:          log_Adj_Close   No. Observations:                  120\n",
      "Model:                   AutoReg-X(1)   Log Likelihood                 208.831\n",
      "Method:               Conditional MLE   S.D. of innovations              0.042\n",
      "Date:                Tue, 15 Dec 2020   AIC                             -6.230\n",
      "Time:                        03:22:31   BIC                             -6.067\n",
      "Sample:                    01-01-2011   HQIC                            -6.164\n",
      "                         - 11-01-2020                                         \n",
      "====================================================================================\n",
      "                       coef    std err          z      P>|z|      [0.025      0.975]\n",
      "------------------------------------------------------------------------------------\n",
      "intercept            0.0954      0.057      1.660      0.097      -0.017       0.208\n",
      "log_Adj_Close.L1     0.9795      0.014     70.202      0.000       0.952       1.007\n",
      "Virus                0.0002      0.001      0.395      0.693      -0.001       0.001\n",
      "Flu                 -0.0005      0.000     -0.944      0.345      -0.001       0.001\n",
      "Vaccine              0.0005      0.000      1.291      0.197      -0.000       0.001\n",
      "Policy               0.0002      0.000      0.944      0.345      -0.000       0.000\n",
      "                                    Roots                                    \n",
      "=============================================================================\n",
      "                  Real          Imaginary           Modulus         Frequency\n",
      "-----------------------------------------------------------------------------\n",
      "AR.1            1.0209           +0.0000j            1.0209            0.0000\n",
      "-----------------------------------------------------------------------------\n"
     ]
    },
    {
     "name": "stderr",
     "output_type": "stream",
     "text": [
      "C:\\Users\\symay\\anaconda3\\lib\\site-packages\\statsmodels\\tsa\\base\\tsa_model.py:159: ValueWarning: No frequency information was provided, so inferred frequency MS will be used.\n",
      "  warnings.warn('No frequency information was'\n"
     ]
    }
   ],
   "source": [
    "model = AutoReg(JNJ.iloc[1:]['log_Adj_Close'], exog = JNJ.iloc[1:][['Virus','Flu','Vaccine','Policy']], lags=1)\n",
    "model_fit = model.fit()\n",
    "print(model_fit.summary())"
   ]
  },
  {
   "cell_type": "code",
   "execution_count": 362,
   "metadata": {},
   "outputs": [],
   "source": [
    "def base_prediction(stock):\n",
    "    pred_base = []\n",
    "    base_xtrain = []\n",
    "    base_ytrain = []\n",
    "    for i in range(len(stock)-2):\n",
    "        base_xtrain.append(stock.iloc[i]['log_Adj_Close'])\n",
    "        base_ytrain.append(stock.iloc[i+1]['log_Adj_Close'])\n",
    "        # Reshape the list to array for model fitting\n",
    "        temp_x = np.array(base_xtrain).reshape(-1,1)\n",
    "        temp_y = np.array(base_ytrain).reshape(-1,1)\n",
    "        # Train the model with the training data set\n",
    "        model = LinearRegression().fit(temp_x, temp_y)\n",
    "        # Implement the model function to predict the value\n",
    "        yhat = np.dot(model.coef_, [stock.iloc[i+1]['log_Adj_Close']]) + model.intercept_\n",
    "        # Store the prediction \n",
    "        pred_base.append(yhat[0])\n",
    "        \n",
    "    return pred_base"
   ]
  },
  {
   "cell_type": "code",
   "execution_count": 363,
   "metadata": {},
   "outputs": [],
   "source": [
    "# Make the base prediction for five stocks\n",
    "GSK_base = base_prediction(GSK)\n",
    "JNJ_base = base_prediction(JNJ)\n",
    "MRK_base = base_prediction(MRK)\n",
    "PFE_base = base_prediction(PFE)\n",
    "SNY_base = base_prediction(SNY)"
   ]
  },
  {
   "cell_type": "code",
   "execution_count": 364,
   "metadata": {},
   "outputs": [],
   "source": [
    "# Get the actual stock price\n",
    "GSK_actual = GSK['log_Adj_Close'][2:]\n",
    "JNJ_actual = JNJ['log_Adj_Close'][2:]\n",
    "MRK_actual = MRK['log_Adj_Close'][2:]\n",
    "PFE_actual = PFE['log_Adj_Close'][2:]\n",
    "SNY_actual = SNY['log_Adj_Close'][2:]"
   ]
  },
  {
   "cell_type": "code",
   "execution_count": 365,
   "metadata": {},
   "outputs": [],
   "source": [
    "MAE_GSK_b = MAE(GSK_base,GSK_actual)\n",
    "MAE_JNJ_b = MAE(JNJ_base,JNJ_actual)\n",
    "MAE_MRK_b = MAE(MRK_base,MRK_actual)\n",
    "MAE_PFE_b = MAE(PFE_base,PFE_actual)\n",
    "MAE_SNY_b = MAE(SNY_base,SNY_actual)"
   ]
  },
  {
   "cell_type": "code",
   "execution_count": 366,
   "metadata": {},
   "outputs": [],
   "source": [
    "def gt_prediction(stock, var):\n",
    "    pred_trends = []\n",
    "    trends_xtrain = []\n",
    "    trends_ytrain = []\n",
    "    for i in range(len(stock)-2):\n",
    "        trends_xtrain.append([stock.iloc[i]['log_Adj_Close'],stock.iloc[i+1][var]])\n",
    "        trends_ytrain.append(stock.iloc[i+1]['log_Adj_Close'])\n",
    "        # Reshape the list to array for model fitting\n",
    "        temp_x = np.array(trends_xtrain).reshape(-1,len(var)+1)\n",
    "        temp_y = np.array(trends_ytrain).reshape(-1,1)\n",
    "        # Train the model with the training data set\n",
    "        model = LinearRegression().fit(temp_x, temp_y)\n",
    "        # Implement the model function to predict the value\n",
    "        yhat = np.dot(model.coef_, [stock.iloc[i+1]['log_Adj_Close'],stock.iloc[i+2][var]]) + model.intercept_\n",
    "        # Store the prediction \n",
    "        pred_trends.append(yhat[0])\n",
    "    print(model.coef_)\n",
    "    return pred_trends"
   ]
  },
  {
   "cell_type": "code",
   "execution_count": 367,
   "metadata": {},
   "outputs": [
    {
     "name": "stdout",
     "output_type": "stream",
     "text": [
      "[[9.10639242e-01 3.88948891e-05]]\n",
      "[[9.82383755e-01 1.61934170e-04]]\n",
      "[[9.83255059e-01 3.02432631e-05]]\n",
      "[[9.60704967e-01 3.10927880e-04]]\n",
      "[[9.26345320e-01 2.72845784e-04]]\n"
     ]
    }
   ],
   "source": [
    "# Policy prediction\n",
    "var = ['Policy']\n",
    "GSK_policy = gt_prediction(GSK, var)\n",
    "JNJ_policy = gt_prediction(JNJ, var)\n",
    "MRK_policy = gt_prediction(MRK, var)\n",
    "PFE_policy = gt_prediction(PFE, var)\n",
    "SNY_policy = gt_prediction(SNY, var)"
   ]
  },
  {
   "cell_type": "code",
   "execution_count": 368,
   "metadata": {},
   "outputs": [],
   "source": [
    "MAE_GSK_p = MAE(GSK_policy,GSK_actual)\n",
    "MAE_JNJ_p = MAE(JNJ_policy,JNJ_actual)\n",
    "MAE_MRK_p = MAE(MRK_policy,MRK_actual)\n",
    "MAE_PFE_p = MAE(PFE_policy,PFE_actual)\n",
    "MAE_SNY_p = MAE(SNY_policy,SNY_actual)"
   ]
  },
  {
   "cell_type": "code",
   "execution_count": 369,
   "metadata": {},
   "outputs": [
    {
     "data": {
      "text/plain": [
       "Text(0, 0.5, 'Stock Price')"
      ]
     },
     "execution_count": 369,
     "metadata": {},
     "output_type": "execute_result"
    },
    {
     "data": {
      "image/png": "[encoded data removed]",
      "text/plain": [
       "<Figure size 432x288 with 1 Axes>"
      ]
     },
     "metadata": {
      "needs_background": "light"
     },
     "output_type": "display_data"
    }
   ],
   "source": [
    "plt.plot(GSK.index[2:],GSK_actual, color='black', label='Actual')\n",
    "plt.plot(GSK.index[2:],GSK_base, color='black', label='Base', linestyle=\":\")\n",
    "plt.plot(GSK.index[2:],GSK_policy, color='gray', label='Policy')\n",
    "plt.legend()\n",
    "plt.xlabel('Time')\n",
    "plt.ylabel('Stock Price')"
   ]
  },
  {
   "cell_type": "code",
   "execution_count": 370,
   "metadata": {},
   "outputs": [
    {
     "name": "stdout",
     "output_type": "stream",
     "text": [
      "[[ 9.14369691e-01 -2.74166047e-04]]\n",
      "[[9.84949878e-01 4.74427494e-05]]\n",
      "[[ 9.84000125e-01 -8.03403523e-05]]\n",
      "[[9.65238784e-01 6.63583774e-05]]\n",
      "[[ 9.33106631e-01 -3.00036024e-04]]\n"
     ]
    }
   ],
   "source": [
    "# Virus prediction\n",
    "var = ['Virus']\n",
    "GSK_virus = gt_prediction(GSK, var)\n",
    "JNJ_virus = gt_prediction(JNJ, var)\n",
    "MRK_virus = gt_prediction(MRK, var)\n",
    "PFE_virus = gt_prediction(PFE, var)\n",
    "SNY_virus = gt_prediction(SNY, var)"
   ]
  },
  {
   "cell_type": "code",
   "execution_count": 371,
   "metadata": {},
   "outputs": [],
   "source": [
    "MAE_GSK_vi = MAE(GSK_virus,GSK_actual)\n",
    "MAE_JNJ_vi = MAE(JNJ_virus,JNJ_actual)\n",
    "MAE_MRK_vi = MAE(MRK_virus,MRK_actual)\n",
    "MAE_PFE_vi = MAE(PFE_virus,PFE_actual)\n",
    "MAE_SNY_vi = MAE(SNY_virus,SNY_actual)"
   ]
  },
  {
   "cell_type": "code",
   "execution_count": 372,
   "metadata": {},
   "outputs": [
    {
     "name": "stdout",
     "output_type": "stream",
     "text": [
      "[[ 9.13143224e-01 -7.05904516e-05]]\n",
      "[[ 9.87480565e-01 -1.80769939e-04]]\n",
      "[[ 9.86800444e-01 -2.38321499e-04]]\n",
      "[[9.60800979e-01 3.75285927e-04]]\n",
      "[[ 9.39687821e-01 -4.32412339e-04]]\n"
     ]
    }
   ],
   "source": [
    "# Flu prediction\n",
    "var = ['Flu']\n",
    "GSK_flu = gt_prediction(GSK, var)\n",
    "JNJ_flu = gt_prediction(JNJ, var)\n",
    "MRK_flu = gt_prediction(MRK, var)\n",
    "PFE_flu = gt_prediction(PFE, var)\n",
    "SNY_flu = gt_prediction(SNY, var)"
   ]
  },
  {
   "cell_type": "code",
   "execution_count": 373,
   "metadata": {},
   "outputs": [],
   "source": [
    "MAE_GSK_f = MAE(GSK_flu,GSK_actual)\n",
    "MAE_JNJ_f = MAE(JNJ_flu,JNJ_actual)\n",
    "MAE_MRK_f = MAE(MRK_flu,MRK_actual)\n",
    "MAE_PFE_f = MAE(PFE_flu,PFE_actual)\n",
    "MAE_SNY_f = MAE(SNY_flu,SNY_actual)"
   ]
  },
  {
   "cell_type": "code",
   "execution_count": 374,
   "metadata": {},
   "outputs": [
    {
     "name": "stdout",
     "output_type": "stream",
     "text": [
      "[[ 9.15645758e-01 -1.01914076e-04]]\n",
      "[[9.81918580e-01 1.80988817e-04]]\n",
      "[[9.80399343e-01 1.73456255e-04]]\n",
      "[[9.52735530e-01 7.38428662e-04]]\n",
      "[[9.21078456e-01 3.21934910e-04]]\n"
     ]
    }
   ],
   "source": [
    "# Vaccine prediction\n",
    "var = ['Vaccine']\n",
    "GSK_vaccine = gt_prediction(GSK, var)\n",
    "JNJ_vaccine = gt_prediction(JNJ, var)\n",
    "MRK_vaccine = gt_prediction(MRK, var)\n",
    "PFE_vaccine = gt_prediction(PFE, var)\n",
    "SNY_vaccine = gt_prediction(SNY, var)"
   ]
  },
  {
   "cell_type": "code",
   "execution_count": 375,
   "metadata": {},
   "outputs": [],
   "source": [
    "MAE_GSK_va = MAE(GSK_vaccine,GSK_actual)\n",
    "MAE_JNJ_va = MAE(JNJ_vaccine,JNJ_actual)\n",
    "MAE_MRK_va = MAE(MRK_vaccine,MRK_actual)\n",
    "MAE_PFE_va = MAE(PFE_vaccine,PFE_actual)\n",
    "MAE_SNY_va = MAE(SNY_vaccine,SNY_actual)"
   ]
  },
  {
   "cell_type": "code",
   "execution_count": 376,
   "metadata": {},
   "outputs": [
    {
     "data": {
      "text/plain": [
       "Text(0, 0.5, 'Stock Price')"
      ]
     },
     "execution_count": 376,
     "metadata": {},
     "output_type": "execute_result"
    },
    {
     "data": {
      "image/png": "[encoded data removed]",
      "text/plain": [
       "<Figure size 432x288 with 1 Axes>"
      ]
     },
     "metadata": {
      "needs_background": "light"
     },
     "output_type": "display_data"
    }
   ],
   "source": [
    "plt.plot(GSK.index[2:],GSK_actual, color='black', label='Actual')\n",
    "plt.plot(GSK.index[2:],GSK_base, color='black', label='Base', linestyle=\":\")\n",
    "plt.plot(GSK.index[2:],GSK_vaccine, color='gray', label='Vaccine')\n",
    "plt.legend()\n",
    "plt.xlabel('Time')\n",
    "plt.ylabel('Stock Price')"
   ]
  },
  {
   "cell_type": "code",
   "execution_count": 377,
   "metadata": {},
   "outputs": [],
   "source": [
    "def trends_prediction(stock):\n",
    "    pred_trends = []\n",
    "    trends_xtrain = []\n",
    "    trends_ytrain = []\n",
    "    for i in range(len(stock)-2):\n",
    "        trends_xtrain.append([stock.iloc[i]['log_Adj_Close'],stock.iloc[i+1]['Virus'],stock.iloc[i+1]['Flu'],stock.iloc[i+1]['Vaccine'],stock.iloc[i+1]['Policy']])\n",
    "        trends_ytrain.append(stock.iloc[i+1]['log_Adj_Close'])\n",
    "        # Reshape the list to array for model fitting\n",
    "        temp_x = np.array(trends_xtrain).reshape(-1,5)\n",
    "        temp_y = np.array(trends_ytrain).reshape(-1,1)\n",
    "        # Train the model with the training data set\n",
    "        model = LinearRegression().fit(temp_x, temp_y)\n",
    "        # Implement the model function to predict the value\n",
    "        yhat = np.dot(model.coef_, [stock.iloc[i+1]['log_Adj_Close'],stock.iloc[i+1]['Virus'],stock.iloc[i+1]['Flu'],stock.iloc[i+1]['Vaccine'],stock.iloc[i+1]['Policy']]) + model.intercept_\n",
    "        # Store the prediction \n",
    "        pred_trends.append(yhat[0])\n",
    "    print(model.coef_)\n",
    "    return pred_trends"
   ]
  },
  {
   "cell_type": "code",
   "execution_count": 378,
   "metadata": {},
   "outputs": [
    {
     "name": "stdout",
     "output_type": "stream",
     "text": [
      "[[ 9.11855525e-01 -4.08127095e-04  1.62310833e-04 -9.30238308e-06\n",
      "   2.78446582e-05]]\n",
      "[[ 9.81973991e-01  3.25812103e-04 -4.52102997e-04  2.98172233e-04\n",
      "   1.62644662e-04]]\n",
      "[[ 9.81652235e-01  1.24624942e-04 -4.34777311e-04  3.62613352e-04\n",
      "   2.74644657e-05]]\n",
      "[[ 9.39895486e-01 -8.86843795e-04  5.82094725e-04  8.96153246e-04\n",
      "   3.18167015e-04]]\n",
      "[[ 9.16047224e-01 -3.06375710e-05 -6.97160314e-04  7.80508384e-04\n",
      "   2.60697095e-04]]\n"
     ]
    }
   ],
   "source": [
    "# Trends Prediction\n",
    "GSK_trends = trends_prediction(GSK)\n",
    "JNJ_trends = trends_prediction(JNJ)\n",
    "MRK_trends = trends_prediction(MRK)\n",
    "PFE_trends = trends_prediction(PFE)\n",
    "SNY_trends = trends_prediction(SNY)"
   ]
  },
  {
   "cell_type": "code",
   "execution_count": 379,
   "metadata": {},
   "outputs": [],
   "source": [
    "MAE_GSK_t = MAE(GSK_trends,GSK_actual)\n",
    "MAE_JNJ_t = MAE(JNJ_trends,JNJ_actual)\n",
    "MAE_MRK_t = MAE(MRK_trends,MRK_actual)\n",
    "MAE_PFE_t = MAE(PFE_trends,PFE_actual)\n",
    "MAE_SNY_t = MAE(SNY_trends,SNY_actual)"
   ]
  },
  {
   "cell_type": "code",
   "execution_count": 380,
   "metadata": {},
   "outputs": [],
   "source": [
    "# Compute 1-ratio\n",
    "# virus\n",
    "ratio_GSK_vi = (MAE_GSK_vi-MAE_GSK_b)/MAE_GSK_b *100\n",
    "ratio_JNJ_vi = (MAE_JNJ_vi-MAE_JNJ_b)/MAE_GSK_b *100\n",
    "ratio_MRK_vi = (MAE_MRK_vi-MAE_MRK_b)/MAE_MRK_b *100\n",
    "ratio_PFE_vi = (MAE_PFE_vi-MAE_PFE_b)/MAE_PFE_b *100\n",
    "ratio_SNY_vi = (MAE_SNY_vi-MAE_SNY_b)/MAE_SNY_b *100\n",
    "# flu\n",
    "ratio_GSK_f = (MAE_GSK_f-MAE_GSK_b)/MAE_GSK_b *100\n",
    "ratio_JNJ_f = (MAE_JNJ_f-MAE_JNJ_b)/MAE_GSK_b *100\n",
    "ratio_MRK_f = (MAE_MRK_f-MAE_MRK_b)/MAE_MRK_b *100\n",
    "ratio_PFE_f = (MAE_PFE_f-MAE_PFE_b)/MAE_PFE_b *100\n",
    "ratio_SNY_f = (MAE_SNY_f-MAE_SNY_b)/MAE_SNY_b *100\n",
    "# vaccine\n",
    "ratio_GSK_va = (MAE_GSK_va-MAE_GSK_b)/MAE_GSK_b *100\n",
    "ratio_JNJ_va = (MAE_JNJ_va-MAE_JNJ_b)/MAE_GSK_b *100\n",
    "ratio_MRK_va = (MAE_MRK_va-MAE_MRK_b)/MAE_MRK_b *100\n",
    "ratio_PFE_va = (MAE_PFE_va-MAE_PFE_b)/MAE_PFE_b *100\n",
    "ratio_SNY_va = (MAE_SNY_va-MAE_SNY_b)/MAE_SNY_b *100\n",
    "# policy\n",
    "ratio_GSK_p = (MAE_GSK_p-MAE_GSK_b)/MAE_GSK_b *100\n",
    "ratio_JNJ_p = (MAE_JNJ_p-MAE_JNJ_b)/MAE_GSK_b *100\n",
    "ratio_MRK_p = (MAE_MRK_p-MAE_MRK_b)/MAE_MRK_b *100\n",
    "ratio_PFE_p = (MAE_PFE_p-MAE_PFE_b)/MAE_PFE_b *100\n",
    "ratio_SNY_p = (MAE_SNY_p-MAE_SNY_b)/MAE_SNY_b *100\n",
    "# Trends\n",
    "ratio_GSK_t = (MAE_GSK_t-MAE_GSK_b)/MAE_GSK_b *100\n",
    "ratio_JNJ_t = (MAE_JNJ_t-MAE_JNJ_b)/MAE_GSK_b *100\n",
    "ratio_MRK_t = (MAE_MRK_t-MAE_MRK_b)/MAE_MRK_b *100\n",
    "ratio_PFE_t = (MAE_PFE_t-MAE_PFE_b)/MAE_PFE_b *100\n",
    "ratio_SNY_t = (MAE_SNY_t-MAE_SNY_b)/MAE_SNY_b *100"
   ]
  },
  {
   "cell_type": "code",
   "execution_count": 381,
   "metadata": {},
   "outputs": [
    {
     "name": "stdout",
     "output_type": "stream",
     "text": [
      "Stock MAE_base MAE_virus MAE_flu MAE_vaccine MAE_policy MAE_trends\n",
      "----- -------- --------- ------- ----------- ---------- ----------\n",
      "  GSK  0.04086   0.04516  0.0498     0.04197    0.04114    0.04309\n",
      "  JNJ  0.03606   0.03926 0.08015     0.03653    0.03624    0.03727\n",
      "  MRK  0.04286    0.0474 0.04785     0.04313    0.04363    0.04682\n",
      "  PFE  0.04148   0.04605 0.04422     0.04486    0.04146    0.04593\n",
      "  SNY  0.04585   0.05013 0.04827     0.04833     0.0463    0.04816\n"
     ]
    }
   ],
   "source": [
    "# Compare the MAE value\n",
    "data_rows = (['GSK', round(MAE_GSK_b,5), round(MAE_GSK_vi,5), round(MAE_GSK_f,5), round(MAE_GSK_va,5), round(MAE_GSK_p,5), round(MAE_GSK_t,5)],\n",
    "             ['JNJ', round(MAE_JNJ_b,5), round(MAE_JNJ_vi,5), round(MAE_JNJ_f,5), round(MAE_JNJ_va,5), round(MAE_JNJ_p,5), round(MAE_JNJ_t,5)],\n",
    "             ['MRK', round(MAE_MRK_b,5), round(MAE_MRK_vi,5), round(MAE_MRK_f,5), round(MAE_MRK_va,5), round(MAE_MRK_p,5), round(MAE_MRK_t,5)],\n",
    "             ['PFE', round(MAE_PFE_b,5), round(MAE_PFE_vi,5), round(MAE_PFE_f,5), round(MAE_PFE_va,5), round(MAE_PFE_p,5), round(MAE_PFE_t,5)],\n",
    "             ['SNY', round(MAE_SNY_b,5), round(MAE_SNY_vi,5), round(MAE_SNY_f,5), round(MAE_SNY_va,5), round(MAE_SNY_p,5), round(MAE_SNY_t,5)])\n",
    "t1 = Table(rows=data_rows, names=('Stock', 'MAE_base', 'MAE_virus', 'MAE_flu', 'MAE_vaccine', 'MAE_policy', 'MAE_trends'))\n",
    "#print('       Behavio of MAE around Turning Points')\n",
    "print(t1)"
   ]
  },
  {
   "cell_type": "code",
   "execution_count": 382,
   "metadata": {},
   "outputs": [
    {
     "name": "stdout",
     "output_type": "stream",
     "text": [
      "Stock 1-ratio_virus 1-ratio_flu 1-ratio_vaccine 1-ratio_trends\n",
      "----- ------------- ----------- --------------- --------------\n",
      "  GSK         10.51       21.88             2.7           5.46\n",
      "  JNJ          7.84      107.91            1.16           2.96\n",
      "  MRK         10.59       11.65            0.63           9.24\n",
      "  PFE         11.01        6.61            8.14          10.72\n",
      "  SNY          9.34        5.28            5.41           5.05\n"
     ]
    }
   ],
   "source": [
    "# Compare the 1-ratio\n",
    "data_rows = (['GSK', round(ratio_GSK_vi,2), round(ratio_GSK_f,2), round(ratio_GSK_va,2), round(ratio_GSK_t,2)],\n",
    "             ['JNJ', round(ratio_JNJ_vi,2), round(ratio_JNJ_f,2), round(ratio_JNJ_va,2), round(ratio_JNJ_t,2)],\n",
    "             ['MRK', round(ratio_MRK_vi,2), round(ratio_MRK_f,2), round(ratio_MRK_va,2), round(ratio_MRK_t,2)],\n",
    "             ['PFE', round(ratio_PFE_vi,2), round(ratio_PFE_f,2), round(ratio_PFE_va,2), round(ratio_PFE_t,2)],\n",
    "             ['SNY', round(ratio_SNY_vi,2), round(ratio_SNY_f,2), round(ratio_SNY_va,2), round(ratio_SNY_t,2)])\n",
    "t2 = Table(rows=data_rows, names=('Stock', '1-ratio_virus', '1-ratio_flu', '1-ratio_vaccine','1-ratio_trends'))\n",
    "#print('       Behavio of MAE around Turning Points')\n",
    "print(t2)"
   ]
  },
  {
   "cell_type": "code",
   "execution_count": 384,
   "metadata": {},
   "outputs": [],
   "source": [
    "# Report absolute error for base\n",
    "AE_GSK_b = abs(GSK_base - GSK_actual)\n",
    "AE_JNJ_b = abs(JNJ_base - JNJ_actual)\n",
    "AE_MRK_b = abs(MRK_base - MRK_actual)\n",
    "AE_PFE_b = abs(PFE_base - PFE_actual)\n",
    "AE_SNY_b = abs(SNY_base - SNY_actual)"
   ]
  },
  {
   "cell_type": "code",
   "execution_count": 399,
   "metadata": {},
   "outputs": [],
   "source": [
    "# Report absolute error for virus\n",
    "AE_GSK_t = abs(GSK_virus - GSK_actual)\n",
    "AE_JNJ_t = abs(JNJ_virus - JNJ_actual)\n",
    "AE_MRK_t = abs(MRK_virus - MRK_actual)\n",
    "AE_PFE_t = abs(PFE_virus - PFE_actual)\n",
    "AE_SNY_t = abs(SNY_virus - SNY_actual)"
   ]
  },
  {
   "cell_type": "code",
   "execution_count": 414,
   "metadata": {},
   "outputs": [],
   "source": [
    "# Report absolute error for flu\n",
    "AE_GSK_t = abs(GSK_flu - GSK_actual)\n",
    "AE_JNJ_t = abs(JNJ_flu - JNJ_actual)\n",
    "AE_MRK_t = abs(MRK_flu - MRK_actual)\n",
    "AE_PFE_t = abs(PFE_flu - PFE_actual)\n",
    "AE_SNY_t = abs(SNY_flu - SNY_actual)"
   ]
  },
  {
   "cell_type": "code",
   "execution_count": 421,
   "metadata": {},
   "outputs": [],
   "source": [
    "# Report absolute error for vaccine\n",
    "AE_GSK_t = abs(GSK_vaccine - GSK_actual)\n",
    "AE_JNJ_t = abs(JNJ_vaccine - JNJ_actual)\n",
    "AE_MRK_t = abs(MRK_vaccine - MRK_actual)\n",
    "AE_PFE_t = abs(PFE_vaccine - PFE_actual)\n",
    "AE_SNY_t = abs(SNY_vaccine - SNY_actual)"
   ]
  },
  {
   "cell_type": "code",
   "execution_count": 428,
   "metadata": {},
   "outputs": [],
   "source": [
    "# Report absolute error for policy\n",
    "AE_GSK_t = abs(GSK_policy - GSK_actual)\n",
    "AE_JNJ_t = abs(JNJ_policy - JNJ_actual)\n",
    "AE_MRK_t = abs(MRK_policy - MRK_actual)\n",
    "AE_PFE_t = abs(PFE_policy - PFE_actual)\n",
    "AE_SNY_t = abs(SNY_policy - SNY_actual)"
   ]
  },
  {
   "cell_type": "code",
   "execution_count": 385,
   "metadata": {},
   "outputs": [],
   "source": [
    "# Report absolute error for trends\n",
    "AE_GSK_t = abs(GSK_trends - GSK_actual)\n",
    "AE_JNJ_t = abs(JNJ_trends - JNJ_actual)\n",
    "AE_MRK_t = abs(MRK_trends - MRK_actual)\n",
    "AE_PFE_t = abs(PFE_trends - PFE_actual)\n",
    "AE_SNY_t = abs(SNY_trends - SNY_actual)"
   ]
  },
  {
   "cell_type": "code",
   "execution_count": 429,
   "metadata": {},
   "outputs": [],
   "source": [
    "diff_AE_GSK = AE_GSK_b - AE_GSK_t\n",
    "diff_AE_JNJ = AE_JNJ_b - AE_JNJ_t\n",
    "diff_AE_MRK = AE_MRK_b - AE_MRK_t\n",
    "diff_AE_PFE = AE_PFE_b - AE_PFE_t\n",
    "diff_AE_SNY = AE_SNY_b - AE_SNY_t"
   ]
  },
  {
   "cell_type": "code",
   "execution_count": 430,
   "metadata": {
    "scrolled": true
   },
   "outputs": [
    {
     "data": {
      "text/plain": [
       "<BarContainer object of 89 artists>"
      ]
     },
     "execution_count": 430,
     "metadata": {},
     "output_type": "execute_result"
    },
    {
     "data": {
      "image/png": "[encoded data removed]",
      "text/plain": [
       "<Figure size 432x288 with 1 Axes>"
      ]
     },
     "metadata": {
      "needs_background": "light"
     },
     "output_type": "display_data"
    }
   ],
   "source": [
    "plt.bar(pd.to_datetime(diff_AE_GSK.index[30:]), diff_AE_GSK[30:])"
   ]
  },
  {
   "cell_type": "code",
   "execution_count": 431,
   "metadata": {
    "scrolled": true
   },
   "outputs": [
    {
     "data": {
      "text/plain": [
       "<BarContainer object of 89 artists>"
      ]
     },
     "execution_count": 431,
     "metadata": {},
     "output_type": "execute_result"
    },
    {
     "data": {
      "image/png": "[encoded data removed]",
      "text/plain": [
       "<Figure size 432x288 with 1 Axes>"
      ]
     },
     "metadata": {
      "needs_background": "light"
     },
     "output_type": "display_data"
    }
   ],
   "source": [
    "plt.bar(pd.to_datetime(diff_AE_JNJ[30:].index), diff_AE_JNJ[30:])"
   ]
  },
  {
   "cell_type": "code",
   "execution_count": 432,
   "metadata": {},
   "outputs": [
    {
     "data": {
      "text/plain": [
       "<BarContainer object of 89 artists>"
      ]
     },
     "execution_count": 432,
     "metadata": {},
     "output_type": "execute_result"
    },
    {
     "data": {
      "image/png": "[encoded data removed]",
      "text/plain": [
       "<Figure size 432x288 with 1 Axes>"
      ]
     },
     "metadata": {
      "needs_background": "light"
     },
     "output_type": "display_data"
    }
   ],
   "source": [
    "plt.bar(pd.to_datetime(diff_AE_MRK[30:].index), diff_AE_MRK[30:])"
   ]
  },
  {
   "cell_type": "code",
   "execution_count": 433,
   "metadata": {},
   "outputs": [
    {
     "data": {
      "text/plain": [
       "<BarContainer object of 89 artists>"
      ]
     },
     "execution_count": 433,
     "metadata": {},
     "output_type": "execute_result"
    },
    {
     "data": {
      "image/png": "[encoded data removed]",
      "text/plain": [
       "<Figure size 432x288 with 1 Axes>"
      ]
     },
     "metadata": {
      "needs_background": "light"
     },
     "output_type": "display_data"
    }
   ],
   "source": [
    "plt.bar(pd.to_datetime(diff_AE_PFE[30:].index), diff_AE_PFE[30:])"
   ]
  },
  {
   "cell_type": "code",
   "execution_count": 434,
   "metadata": {},
   "outputs": [
    {
     "data": {
      "text/plain": [
       "<BarContainer object of 89 artists>"
      ]
     },
     "execution_count": 434,
     "metadata": {},
     "output_type": "execute_result"
    },
    {
     "data": {
      "image/png": "[encoded data removed]",
      "text/plain": [
       "<Figure size 432x288 with 1 Axes>"
      ]
     },
     "metadata": {
      "needs_background": "light"
     },
     "output_type": "display_data"
    }
   ],
   "source": [
    "plt.bar(pd.to_datetime(diff_AE_SNY[30:].index), diff_AE_SNY[30:])"
   ]
  },
  {
   "cell_type": "code",
   "execution_count": null,
   "metadata": {},
   "outputs": [],
   "source": []
  }
 ],
 "metadata": {
  "kernelspec": {
   "display_name": "Python 3",
   "language": "python",
   "name": "python3"
  },
  "language_info": {
   "codemirror_mode": {
    "name": "ipython",
    "version": 3
   },
   "file_extension": ".py",
   "mimetype": "text/x-python",
   "name": "python",
   "nbconvert_exporter": "python",
   "pygments_lexer": "ipython3",
   "version": "3.8.3"
  }
 },
 "nbformat": 4,
 "nbformat_minor": 4
}
