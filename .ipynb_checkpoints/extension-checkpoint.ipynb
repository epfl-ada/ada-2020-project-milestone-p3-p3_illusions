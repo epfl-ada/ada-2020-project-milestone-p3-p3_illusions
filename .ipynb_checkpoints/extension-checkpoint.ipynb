{
 "cells": [
  {
   "cell_type": "code",
   "execution_count": 88,
   "metadata": {},
   "outputs": [],
   "source": [
    "import pandas as pd\n",
    "import numpy as np\n",
    "import math\n",
    "import matplotlib.pyplot as plt\n",
    "from sklearn.linear_model import LinearRegression\n",
    "from sklearn.metrics import mean_absolute_error as MAE"
   ]
  },
  {
   "cell_type": "code",
   "execution_count": 89,
   "metadata": {},
   "outputs": [],
   "source": [
    "GSK = pd.read_csv('D:/GSK.csv',index_col=0, parse_dates=True)\n",
    "JNJ = pd.read_csv('D:/JNJ.csv',index_col=0, parse_dates=True)\n",
    "MRK = pd.read_csv('D:/MRK.csv',index_col=0, parse_dates=True)\n",
    "PFE = pd.read_csv('D:/PFE.csv',index_col=0, parse_dates=True)\n",
    "SNY = pd.read_csv('D:/SNY.csv',index_col=0, parse_dates=True)"
   ]
  },
  {
   "cell_type": "code",
   "execution_count": 90,
   "metadata": {},
   "outputs": [
    {
     "data": {
      "text/html": [
       "<div>\n",
       "<style scoped>\n",
       "    .dataframe tbody tr th:only-of-type {\n",
       "        vertical-align: middle;\n",
       "    }\n",
       "\n",
       "    .dataframe tbody tr th {\n",
       "        vertical-align: top;\n",
       "    }\n",
       "\n",
       "    .dataframe thead th {\n",
       "        text-align: right;\n",
       "    }\n",
       "</style>\n",
       "<table border=\"1\" class=\"dataframe\">\n",
       "  <thead>\n",
       "    <tr style=\"text-align: right;\">\n",
       "      <th></th>\n",
       "      <th>Adj Close</th>\n",
       "      <th>Virus</th>\n",
       "      <th>Flu</th>\n",
       "      <th>Vaccine</th>\n",
       "    </tr>\n",
       "    <tr>\n",
       "      <th>Date</th>\n",
       "      <th></th>\n",
       "      <th></th>\n",
       "      <th></th>\n",
       "      <th></th>\n",
       "    </tr>\n",
       "  </thead>\n",
       "  <tbody>\n",
       "    <tr>\n",
       "      <th>2010-11-01</th>\n",
       "      <td>22.901985</td>\n",
       "      <td>5</td>\n",
       "      <td>12</td>\n",
       "      <td>13</td>\n",
       "    </tr>\n",
       "    <tr>\n",
       "      <th>2010-12-01</th>\n",
       "      <td>23.464359</td>\n",
       "      <td>5</td>\n",
       "      <td>16</td>\n",
       "      <td>9</td>\n",
       "    </tr>\n",
       "    <tr>\n",
       "      <th>2011-01-01</th>\n",
       "      <td>21.735352</td>\n",
       "      <td>5</td>\n",
       "      <td>18</td>\n",
       "      <td>12</td>\n",
       "    </tr>\n",
       "    <tr>\n",
       "      <th>2011-02-01</th>\n",
       "      <td>23.099413</td>\n",
       "      <td>5</td>\n",
       "      <td>13</td>\n",
       "      <td>12</td>\n",
       "    </tr>\n",
       "    <tr>\n",
       "      <th>2011-03-01</th>\n",
       "      <td>23.348209</td>\n",
       "      <td>5</td>\n",
       "      <td>9</td>\n",
       "      <td>13</td>\n",
       "    </tr>\n",
       "    <tr>\n",
       "      <th>...</th>\n",
       "      <td>...</td>\n",
       "      <td>...</td>\n",
       "      <td>...</td>\n",
       "      <td>...</td>\n",
       "    </tr>\n",
       "    <tr>\n",
       "      <th>2020-07-01</th>\n",
       "      <td>39.345814</td>\n",
       "      <td>9</td>\n",
       "      <td>22</td>\n",
       "      <td>67</td>\n",
       "    </tr>\n",
       "    <tr>\n",
       "      <th>2020-08-01</th>\n",
       "      <td>38.643208</td>\n",
       "      <td>6</td>\n",
       "      <td>18</td>\n",
       "      <td>62</td>\n",
       "    </tr>\n",
       "    <tr>\n",
       "      <th>2020-09-01</th>\n",
       "      <td>37.163372</td>\n",
       "      <td>5</td>\n",
       "      <td>28</td>\n",
       "      <td>63</td>\n",
       "    </tr>\n",
       "    <tr>\n",
       "      <th>2020-10-01</th>\n",
       "      <td>32.996807</td>\n",
       "      <td>5</td>\n",
       "      <td>34</td>\n",
       "      <td>57</td>\n",
       "    </tr>\n",
       "    <tr>\n",
       "      <th>2020-11-01</th>\n",
       "      <td>36.324139</td>\n",
       "      <td>5</td>\n",
       "      <td>22</td>\n",
       "      <td>100</td>\n",
       "    </tr>\n",
       "  </tbody>\n",
       "</table>\n",
       "<p>121 rows × 4 columns</p>\n",
       "</div>"
      ],
      "text/plain": [
       "            Adj Close  Virus  Flu  Vaccine\n",
       "Date                                      \n",
       "2010-11-01  22.901985      5   12       13\n",
       "2010-12-01  23.464359      5   16        9\n",
       "2011-01-01  21.735352      5   18       12\n",
       "2011-02-01  23.099413      5   13       12\n",
       "2011-03-01  23.348209      5    9       13\n",
       "...               ...    ...  ...      ...\n",
       "2020-07-01  39.345814      9   22       67\n",
       "2020-08-01  38.643208      6   18       62\n",
       "2020-09-01  37.163372      5   28       63\n",
       "2020-10-01  32.996807      5   34       57\n",
       "2020-11-01  36.324139      5   22      100\n",
       "\n",
       "[121 rows x 4 columns]"
      ]
     },
     "execution_count": 90,
     "metadata": {},
     "output_type": "execute_result"
    }
   ],
   "source": [
    "GSK"
   ]
  },
  {
   "cell_type": "code",
   "execution_count": 91,
   "metadata": {},
   "outputs": [
    {
     "data": {
      "text/plain": [
       "12"
      ]
     },
     "execution_count": 91,
     "metadata": {},
     "output_type": "execute_result"
    }
   ],
   "source": [
    "GSK['Flu'][0]"
   ]
  },
  {
   "cell_type": "code",
   "execution_count": 92,
   "metadata": {},
   "outputs": [],
   "source": [
    "def base_prediction(stock):\n",
    "    predict_list = []\n",
    "\n",
    "    for index_i in stock.index:\n",
    "        \n",
    "        #use loc and iloc to get the prior date\n",
    "        loc1 = stock.index.get_loc(index_i)\n",
    "        if(loc1<3):continue\n",
    "        predictor = [stock.iloc[loc1 - 1]['Adj Close']]\n",
    "        predictor = np.array(predictor)\n",
    "        predictor = predictor.reshape(1,-1)\n",
    "        #new list for variables and values for linear regression\n",
    "        X = []\n",
    "        Y = []\n",
    "        for index_j, rows in (stock[(stock.index<index_i) & (stock.index>\"2010-11-01\")]).iterrows():\n",
    "            loc2 = stock.index.get_loc(index_j)\n",
    "            predictors = [stock.iloc[loc2-1]['Adj Close']]\n",
    "            X.append(predictors)\n",
    "            actual = stock.loc[index_j]['Adj Close']\n",
    "            Y.append(actual)\n",
    "        #predictors and actual values in rolling window\n",
    "        X = np.array(X)\n",
    "        Y = np.array(Y)\n",
    "        #optimal parameters from OLS\n",
    "        linreg = LinearRegression()\n",
    "\n",
    "        linreg.fit(X, Y)\n",
    "        #predicted values    \n",
    "        pre = linreg.predict(predictor)[0]\n",
    "        predict_list.append(pre)\n",
    "    \n",
    "    return predict_list"
   ]
  },
  {
   "cell_type": "code",
   "execution_count": 93,
   "metadata": {},
   "outputs": [],
   "source": [
    "GSK_base = base_prediction(GSK)\n",
    "JNJ_base = base_prediction(JNJ)\n",
    "MRK_base = base_prediction(MRK)\n",
    "PFE_base = base_prediction(PFE)\n",
    "SNY_base = base_prediction(SNY)"
   ]
  },
  {
   "cell_type": "code",
   "execution_count": 94,
   "metadata": {},
   "outputs": [
    {
     "data": {
      "text/plain": [
       "118"
      ]
     },
     "execution_count": 94,
     "metadata": {},
     "output_type": "execute_result"
    }
   ],
   "source": [
    "len(GSK_base)"
   ]
  },
  {
   "cell_type": "code",
   "execution_count": 95,
   "metadata": {},
   "outputs": [],
   "source": [
    "GSK_actual = GSK['Adj Close'][3:]\n",
    "JNJ_actual = JNJ['Adj Close'][3:]\n",
    "MRK_actual = MRK['Adj Close'][3:]\n",
    "PFE_actual = PFE['Adj Close'][3:]\n",
    "SNY_actual = SNY['Adj Close'][3:]"
   ]
  },
  {
   "cell_type": "code",
   "execution_count": 96,
   "metadata": {},
   "outputs": [
    {
     "data": {
      "text/plain": [
       "118"
      ]
     },
     "execution_count": 96,
     "metadata": {},
     "output_type": "execute_result"
    }
   ],
   "source": [
    "len(GSK_actual)"
   ]
  },
  {
   "cell_type": "code",
   "execution_count": 97,
   "metadata": {
    "scrolled": true
   },
   "outputs": [
    {
     "data": {
      "text/plain": [
       "[1.3318755994453508,\n",
       " 3.4857000639181517,\n",
       " 2.169207338188688,\n",
       " 1.1002448488303749,\n",
       " 1.6779778174852924]"
      ]
     },
     "execution_count": 97,
     "metadata": {},
     "output_type": "execute_result"
    }
   ],
   "source": [
    "[MAE(GSK_base,GSK_actual),MAE(JNJ_base,JNJ_actual),MAE(MRK_base,MRK_actual),MAE(PFE_base,PFE_actual),MAE(SNY_base,SNY_actual)]"
   ]
  },
  {
   "cell_type": "code",
   "execution_count": 102,
   "metadata": {},
   "outputs": [],
   "source": [
    "def virus_prediction(stock):\n",
    "    predict_list = []\n",
    "\n",
    "    for index_i in stock.index:\n",
    "        \n",
    "        #use loc and iloc to get the prior date\n",
    "        loc1 = stock.index.get_loc(index_i)\n",
    "        if(loc1<3):continue\n",
    "        predictor = [stock.iloc[loc1 - 1]['Adj Close'],stock.iloc[loc1-1]['Virus']]\n",
    "        predictor = np.array(predictor)\n",
    "        predictor = predictor.reshape(1,-1)\n",
    "        #new list for variables and values for linear regression\n",
    "        X = []\n",
    "        Y = []\n",
    "        for index_j, rows in (stock[(stock.index<index_i) & (stock.index>\"2010-11-01\")]).iterrows():\n",
    "            loc2 = stock.index.get_loc(index_j)\n",
    "            predictors = [stock.iloc[loc2-1]['Adj Close'],stock.iloc[loc2-1]['Virus']]\n",
    "            X.append(predictors)\n",
    "            actual = stock.loc[index_j]['Adj Close']\n",
    "            Y.append(actual)\n",
    "        #predictors and actual values in rolling window\n",
    "        X = np.array(X)\n",
    "        Y = np.array(Y)\n",
    "        #optimal parameters from OLS\n",
    "        linreg = LinearRegression()\n",
    "\n",
    "        linreg.fit(X, Y)\n",
    "        #predicted values    \n",
    "        pre = linreg.predict(predictor)[0]\n",
    "        predict_list.append(pre)\n",
    "    \n",
    "    return predict_list"
   ]
  },
  {
   "cell_type": "code",
   "execution_count": 103,
   "metadata": {},
   "outputs": [],
   "source": [
    "GSK_virus = virus_prediction(GSK)\n",
    "JNJ_virus = virus_prediction(JNJ)\n",
    "MRK_virus = virus_prediction(MRK)\n",
    "PFE_virus = virus_prediction(PFE)\n",
    "SNY_virus = virus_prediction(SNY)"
   ]
  },
  {
   "cell_type": "code",
   "execution_count": 104,
   "metadata": {},
   "outputs": [
    {
     "data": {
      "text/plain": [
       "[1.4971320243674804,\n",
       " 3.870343700217227,\n",
       " 2.366106884720268,\n",
       " 1.2033364181521715,\n",
       " 1.7822617559082268]"
      ]
     },
     "execution_count": 104,
     "metadata": {},
     "output_type": "execute_result"
    }
   ],
   "source": [
    "[MAE(GSK_virus,GSK_actual),MAE(JNJ_virus,JNJ_actual),MAE(MRK_virus,MRK_actual),MAE(PFE_virus,PFE_actual),MAE(SNY_virus,SNY_actual)]"
   ]
  },
  {
   "cell_type": "code",
   "execution_count": 43,
   "metadata": {},
   "outputs": [],
   "source": [
    "def flu_prediction(stock):\n",
    "    predict_list = []\n",
    "\n",
    "    for index_i in stock.index:\n",
    "        \n",
    "        #use loc and iloc to get the prior date\n",
    "        loc1 = stock.index.get_loc(index_i)\n",
    "        if(loc1<3):continue\n",
    "        predictor = [stock.iloc[loc1 - 1]['Adj Close'],stock.loc[index_i]['Flu']]\n",
    "        predictor = np.array(predictor)\n",
    "        predictor = predictor.reshape(1,-1)\n",
    "        #new list for variables and values for linear regression\n",
    "        X = []\n",
    "        Y = []\n",
    "        for index_j, rows in (stock[(stock.index<index_i) & (stock.index>\"2010-11-01\")]).iterrows():\n",
    "            loc2 = stock.index.get_loc(index_j)\n",
    "            predictors = [stock.iloc[loc2-1]['Adj Close'],stock.loc[index_j]['Flu']]\n",
    "            X.append(predictors)\n",
    "            actual = stock.loc[index_j]['Adj Close']\n",
    "            Y.append(actual)\n",
    "        #predictors and actual values in rolling window\n",
    "        X = np.array(X)\n",
    "        Y = np.array(Y)\n",
    "        #optimal parameters from OLS\n",
    "        linreg = LinearRegression()\n",
    "\n",
    "        linreg.fit(X, Y)\n",
    "        #predicted values    \n",
    "        pre = linreg.predict(predictor)[0]\n",
    "        predict_list.append(pre)\n",
    "    \n",
    "    return predict_list"
   ]
  },
  {
   "cell_type": "code",
   "execution_count": 44,
   "metadata": {},
   "outputs": [],
   "source": [
    "GSK_flu = flu_prediction(GSK)\n",
    "JNJ_flu = flu_prediction(JNJ)\n",
    "MRK_flu = flu_prediction(MRK)\n",
    "PFE_flu = flu_prediction(PFE)\n",
    "SNY_flu = flu_prediction(SNY)"
   ]
  },
  {
   "cell_type": "code",
   "execution_count": 45,
   "metadata": {},
   "outputs": [
    {
     "data": {
      "text/plain": [
       "[1.562869651415303,\n",
       " 7.92094004258198,\n",
       " 2.323067130376447,\n",
       " 1.1353780940803173,\n",
       " 1.7206915753004244]"
      ]
     },
     "execution_count": 45,
     "metadata": {},
     "output_type": "execute_result"
    }
   ],
   "source": [
    "[MAE(GSK_flu,GSK_actual),MAE(JNJ_flu,JNJ_actual),MAE(MRK_flu,MRK_actual),MAE(PFE_flu,PFE_actual),MAE(SNY_flu,SNY_actual)]"
   ]
  },
  {
   "cell_type": "code",
   "execution_count": 46,
   "metadata": {},
   "outputs": [],
   "source": [
    "def vaccine_prediction(stock):\n",
    "    predict_list = []\n",
    "\n",
    "    for index_i in stock.index:\n",
    "        \n",
    "        #use loc and iloc to get the prior date\n",
    "        loc1 = stock.index.get_loc(index_i)\n",
    "        if(loc1<3):continue\n",
    "        predictor = [stock.iloc[loc1 - 1]['Adj Close'],stock.loc[index_i]['Vaccine']]\n",
    "        predictor = np.array(predictor)\n",
    "        predictor = predictor.reshape(1,-1)\n",
    "        #new list for variables and values for linear regression\n",
    "        X = []\n",
    "        Y = []\n",
    "        for index_j, rows in (stock[(stock.index<index_i) & (stock.index>\"2010-11-01\")]).iterrows():\n",
    "            loc2 = stock.index.get_loc(index_j)\n",
    "            predictors = [stock.iloc[loc2-1]['Adj Close'],stock.loc[index_j]['Vaccine']]\n",
    "            X.append(predictors)\n",
    "            actual = stock.loc[index_j]['Adj Close']\n",
    "            Y.append(actual)\n",
    "        #predictors and actual values in rolling window\n",
    "        X = np.array(X)\n",
    "        Y = np.array(Y)\n",
    "        #optimal parameters from OLS\n",
    "        linreg = LinearRegression()\n",
    "\n",
    "        linreg.fit(X, Y)\n",
    "        #predicted values    \n",
    "        pre = linreg.predict(predictor)[0]\n",
    "        predict_list.append(pre)\n",
    "    \n",
    "    return predict_list"
   ]
  },
  {
   "cell_type": "code",
   "execution_count": 47,
   "metadata": {},
   "outputs": [],
   "source": [
    "GSK_vaccine = vaccine_prediction(GSK)\n",
    "JNJ_vaccine = vaccine_prediction(JNJ)\n",
    "MRK_vaccine = vaccine_prediction(MRK)\n",
    "PFE_vaccine = vaccine_prediction(PFE)\n",
    "SNY_vaccine = vaccine_prediction(SNY)"
   ]
  },
  {
   "cell_type": "code",
   "execution_count": 48,
   "metadata": {},
   "outputs": [
    {
     "data": {
      "text/plain": [
       "[1.378669866743721,\n",
       " 3.53399783821651,\n",
       " 2.176121586620879,\n",
       " 1.1698920382182272,\n",
       " 1.7662068763794736]"
      ]
     },
     "execution_count": 48,
     "metadata": {},
     "output_type": "execute_result"
    }
   ],
   "source": [
    "[MAE(GSK_vaccine,GSK_actual),MAE(JNJ_vaccine,JNJ_actual),MAE(MRK_vaccine,MRK_actual),MAE(PFE_vaccine,PFE_actual),MAE(SNY_vaccine,SNY_actual)]"
   ]
  },
  {
   "cell_type": "code",
   "execution_count": 66,
   "metadata": {},
   "outputs": [],
   "source": [
    "GSK_actual_1 = GSK['Adj Close'][115:]"
   ]
  },
  {
   "cell_type": "code",
   "execution_count": 67,
   "metadata": {},
   "outputs": [],
   "source": [
    "GSK_base_1 = GSK_base[112:]"
   ]
  },
  {
   "cell_type": "code",
   "execution_count": 68,
   "metadata": {},
   "outputs": [],
   "source": [
    "GSK_vaccine_1 = GSK_vaccine[112:]"
   ]
  },
  {
   "cell_type": "code",
   "execution_count": 69,
   "metadata": {},
   "outputs": [
    {
     "data": {
      "text/plain": [
       "[40.55868182862533,\n",
       " 40.48464711687588,\n",
       " 39.68775621194112,\n",
       " 38.89017057212023,\n",
       " 37.232462933517354,\n",
       " 32.78409681743313]"
      ]
     },
     "execution_count": 69,
     "metadata": {},
     "output_type": "execute_result"
    }
   ],
   "source": [
    "GSK_vaccine_1"
   ]
  },
  {
   "cell_type": "code",
   "execution_count": 80,
   "metadata": {},
   "outputs": [
    {
     "data": {
      "text/plain": [
       "1.6373225927366908"
      ]
     },
     "execution_count": 80,
     "metadata": {},
     "output_type": "execute_result"
    }
   ],
   "source": [
    "MAE(GSK_actual[20:80],GSK_base[23:83])"
   ]
  },
  {
   "cell_type": "code",
   "execution_count": 71,
   "metadata": {},
   "outputs": [
    {
     "data": {
      "text/plain": [
       "2.0733501409411303"
      ]
     },
     "execution_count": 71,
     "metadata": {},
     "output_type": "execute_result"
    }
   ],
   "source": [
    "MAE(GSK_actual_1,GSK_vaccine_1)"
   ]
  },
  {
   "cell_type": "code",
   "execution_count": 62,
   "metadata": {},
   "outputs": [],
   "source": [
    "GSK_flu_1 = GSK_flu[106:]\n",
    "GSK_virus_1 = GSK_virus[106:]"
   ]
  },
  {
   "cell_type": "code",
   "execution_count": 153,
   "metadata": {},
   "outputs": [
    {
     "data": {
      "text/plain": [
       "1.1455103182633406"
      ]
     },
     "execution_count": 153,
     "metadata": {},
     "output_type": "execute_result"
    }
   ],
   "source": [
    "MAE(GSK_actual[0:20],GSK_base[0:20])"
   ]
  },
  {
   "cell_type": "code",
   "execution_count": 164,
   "metadata": {},
   "outputs": [
    {
     "data": {
      "text/plain": [
       "1.2922459248054168"
      ]
     },
     "execution_count": 164,
     "metadata": {},
     "output_type": "execute_result"
    }
   ],
   "source": [
    "MAE(GSK_actual[40:45],GSK_base[40:45])"
   ]
  },
  {
   "cell_type": "code",
   "execution_count": 154,
   "metadata": {},
   "outputs": [
    {
     "data": {
      "text/plain": [
       "1.081131956951801"
      ]
     },
     "execution_count": 154,
     "metadata": {},
     "output_type": "execute_result"
    }
   ],
   "source": [
    "MAE(GSK_actual[0:20],GSK_vaccine[0:20])"
   ]
  },
  {
   "cell_type": "code",
   "execution_count": 165,
   "metadata": {},
   "outputs": [
    {
     "data": {
      "text/plain": [
       "1.3186664086195705"
      ]
     },
     "execution_count": 165,
     "metadata": {},
     "output_type": "execute_result"
    }
   ],
   "source": [
    "MAE(GSK_actual[40:45],GSK_vaccine[40:45])"
   ]
  },
  {
   "cell_type": "code",
   "execution_count": 148,
   "metadata": {},
   "outputs": [
    {
     "data": {
      "text/plain": [
       "[<matplotlib.lines.Line2D at 0x142f8d1d430>]"
      ]
     },
     "execution_count": 148,
     "metadata": {},
     "output_type": "execute_result"
    },
    {
     "data": {
      "image/png": "[encoded data removed]",
      "text/plain": [
       "<Figure size 432x288 with 1 Axes>"
      ]
     },
     "metadata": {
      "needs_background": "light"
     },
     "output_type": "display_data"
    }
   ],
   "source": [
    "plt.plot(GSK.index[3:],GSK_actual,'r')\n",
    "plt.plot(GSK.index[3:],GSK_base,'b')\n",
    "plt.plot(GSK.index[3:],GSK_vaccine,'g')"
   ]
  },
  {
   "cell_type": "code",
   "execution_count": 155,
   "metadata": {},
   "outputs": [
    {
     "data": {
      "text/plain": [
       "[<matplotlib.lines.Line2D at 0x142f9f0e760>]"
      ]
     },
     "execution_count": 155,
     "metadata": {},
     "output_type": "execute_result"
    },
    {
     "data": {
      "image/png": "[encoded data removed]",
      "text/plain": [
       "<Figure size 432x288 with 1 Axes>"
      ]
     },
     "metadata": {
      "needs_background": "light"
     },
     "output_type": "display_data"
    }
   ],
   "source": [
    "plt.plot(JNJ.index[3:],JNJ_actual,'r')\n",
    "plt.plot(JNJ.index[3:],JNJ_base,'b')\n",
    "plt.plot(JNJ.index[3:],JNJ_vaccine,'g')"
   ]
  },
  {
   "cell_type": "code",
   "execution_count": 118,
   "metadata": {},
   "outputs": [],
   "source": [
    "def trends_prediction(stock):\n",
    "    predict_list = []\n",
    "\n",
    "    for index_i in stock.index:\n",
    "        \n",
    "        #use loc and iloc to get the prior date\n",
    "        loc1 = stock.index.get_loc(index_i)\n",
    "        if(loc1<3):continue\n",
    "        predictor = [stock.iloc[loc1 - 1]['Adj Close'],stock.iloc[loc1]['Vaccine'],stock.iloc[loc1]['Virus']]\n",
    "        predictor = np.array(predictor)\n",
    "        predictor = predictor.reshape(1,-1)\n",
    "        #new list for variables and values for linear regression\n",
    "        X = []\n",
    "        Y = []\n",
    "        for index_j, rows in (stock[(stock.index<index_i) & (stock.index>\"2010-11-01\")]).iterrows():\n",
    "            loc2 = stock.index.get_loc(index_j)\n",
    "            predictors = [stock.iloc[loc2-1]['Adj Close'],stock.iloc[loc2]['Vaccine'],stock.iloc[loc2]['Virus']]\n",
    "            X.append(predictors)\n",
    "            actual = stock.loc[index_j]['Adj Close']\n",
    "            Y.append(actual)\n",
    "        #predictors and actual values in rolling window\n",
    "        X = np.array(X)\n",
    "        Y = np.array(Y)\n",
    "        #optimal parameters from OLS\n",
    "        linreg = LinearRegression()\n",
    "\n",
    "        linreg.fit(X, Y)\n",
    "        #predicted values    \n",
    "        pre = linreg.predict(predictor)[0]\n",
    "        predict_list.append(pre)\n",
    "    \n",
    "    return predict_list"
   ]
  },
  {
   "cell_type": "code",
   "execution_count": 119,
   "metadata": {},
   "outputs": [],
   "source": [
    "GSK_trends = trends_prediction(GSK)\n",
    "JNJ_trends = trends_prediction(JNJ)\n",
    "MRK_trends = trends_prediction(MRK)\n",
    "PFE_trends = trends_prediction(PFE)\n",
    "SNY_trends = trends_prediction(SNY)"
   ]
  },
  {
   "cell_type": "code",
   "execution_count": 120,
   "metadata": {},
   "outputs": [
    {
     "data": {
      "text/plain": [
       "[1.5539631382914727,\n",
       " 3.939612218961868,\n",
       " 2.489802780354683,\n",
       " 1.282419672603768,\n",
       " 1.8957203777126128]"
      ]
     },
     "execution_count": 120,
     "metadata": {},
     "output_type": "execute_result"
    }
   ],
   "source": [
    "[MAE(GSK_trends,GSK_actual),MAE(JNJ_trends,JNJ_actual),MAE(MRK_trends,MRK_actual),MAE(PFE_trends,PFE_actual),MAE(SNY_trends,SNY_actual)]"
   ]
  },
  {
   "cell_type": "code",
   "execution_count": 121,
   "metadata": {},
   "outputs": [
    {
     "data": {
      "text/plain": [
       "[<matplotlib.lines.Line2D at 0x142f8d3da00>]"
      ]
     },
     "execution_count": 121,
     "metadata": {},
     "output_type": "execute_result"
    },
    {
     "data": {
      "image/png": "[encoded data removed]",
      "text/plain": [
       "<Figure size 432x288 with 1 Axes>"
      ]
     },
     "metadata": {
      "needs_background": "light"
     },
     "output_type": "display_data"
    }
   ],
   "source": [
    "plt.plot(GSK.index[3:],GSK_actual,'r')\n",
    "plt.plot(GSK.index[3:],GSK_base,'b')\n",
    "plt.plot(GSK.index[3:],GSK_trends,'g')"
   ]
  },
  {
   "cell_type": "code",
   "execution_count": 122,
   "metadata": {},
   "outputs": [
    {
     "data": {
      "text/plain": [
       "1.1882321636521997"
      ]
     },
     "execution_count": 122,
     "metadata": {},
     "output_type": "execute_result"
    }
   ],
   "source": [
    "MAE(GSK_actual[0:20],GSK_base[0:20])"
   ]
  },
  {
   "cell_type": "code",
   "execution_count": 124,
   "metadata": {},
   "outputs": [
    {
     "data": {
      "text/plain": [
       "1.1842903985677622"
      ]
     },
     "execution_count": 124,
     "metadata": {},
     "output_type": "execute_result"
    }
   ],
   "source": [
    "MAE(GSK_actual[0:20],GSK_trends[0:20])"
   ]
  },
  {
   "cell_type": "code",
   "execution_count": 129,
   "metadata": {},
   "outputs": [
    {
     "data": {
      "text/plain": [
       "1.299387624230636"
      ]
     },
     "execution_count": 129,
     "metadata": {},
     "output_type": "execute_result"
    }
   ],
   "source": [
    "MAE(GSK_actual[40:50],GSK_base[40:50])"
   ]
  },
  {
   "cell_type": "code",
   "execution_count": 130,
   "metadata": {},
   "outputs": [
    {
     "data": {
      "text/plain": [
       "1.25667715805265"
      ]
     },
     "execution_count": 130,
     "metadata": {},
     "output_type": "execute_result"
    }
   ],
   "source": [
    "MAE(GSK_actual[40:50],GSK_trends[40:50])"
   ]
  },
  {
   "cell_type": "code",
   "execution_count": 132,
   "metadata": {},
   "outputs": [
    {
     "data": {
      "text/plain": [
       "Timestamp('2014-06-01 00:00:00')"
      ]
     },
     "execution_count": 132,
     "metadata": {},
     "output_type": "execute_result"
    }
   ],
   "source": [
    "GSK.index[43]"
   ]
  },
  {
   "cell_type": "code",
   "execution_count": 137,
   "metadata": {},
   "outputs": [
    {
     "data": {
      "text/plain": [
       "[<matplotlib.lines.Line2D at 0x142f8e5d3a0>]"
      ]
     },
     "execution_count": 137,
     "metadata": {},
     "output_type": "execute_result"
    },
    {
     "data": {
      "image/png": "[encoded data removed]",
      "text/plain": [
       "<Figure size 432x288 with 1 Axes>"
      ]
     },
     "metadata": {
      "needs_background": "light"
     },
     "output_type": "display_data"
    }
   ],
   "source": [
    "plt.plot(PFE.index[3:],PFE_actual,'r')\n",
    "plt.plot(PFE.index[3:],PFE_base,'b')\n",
    "plt.plot(PFE.index[3:],PFE_trends,'g')"
   ]
  },
  {
   "cell_type": "code",
   "execution_count": 138,
   "metadata": {},
   "outputs": [
    {
     "data": {
      "text/plain": [
       "1.0064622306620685"
      ]
     },
     "execution_count": 138,
     "metadata": {},
     "output_type": "execute_result"
    }
   ],
   "source": [
    "MAE(PFE_actual[70:80],PFE_base[70:80])"
   ]
  },
  {
   "cell_type": "code",
   "execution_count": 139,
   "metadata": {},
   "outputs": [
    {
     "data": {
      "text/plain": [
       "0.9941824324244533"
      ]
     },
     "execution_count": 139,
     "metadata": {},
     "output_type": "execute_result"
    }
   ],
   "source": [
    "MAE(PFE_actual[70:80],PFE_trends[70:80])"
   ]
  },
  {
   "cell_type": "code",
   "execution_count": 141,
   "metadata": {},
   "outputs": [
    {
     "data": {
      "text/plain": [
       "Timestamp('2016-12-01 00:00:00')"
      ]
     },
     "execution_count": 141,
     "metadata": {},
     "output_type": "execute_result"
    }
   ],
   "source": [
    "PFE.index[73]"
   ]
  },
  {
   "cell_type": "code",
   "execution_count": 147,
   "metadata": {},
   "outputs": [
    {
     "data": {
      "text/plain": [
       "[<matplotlib.lines.Line2D at 0x142fa070d90>]"
      ]
     },
     "execution_count": 147,
     "metadata": {},
     "output_type": "execute_result"
    },
    {
     "data": {
      "image/png": "[encoded data removed]",
      "text/plain": [
       "<Figure size 432x288 with 1 Axes>"
      ]
     },
     "metadata": {
      "needs_background": "light"
     },
     "output_type": "display_data"
    }
   ],
   "source": [
    "plt.plot(JNJ.index[3:],JNJ_actual,'r')\n",
    "plt.plot(JNJ.index[3:],JNJ_base,'b')\n",
    "plt.plot(JNJ.index[3:],JNJ_trends,'g')"
   ]
  },
  {
   "cell_type": "code",
   "execution_count": 146,
   "metadata": {},
   "outputs": [
    {
     "data": {
      "text/plain": [
       "[<matplotlib.lines.Line2D at 0x142fa00e9a0>]"
      ]
     },
     "execution_count": 146,
     "metadata": {},
     "output_type": "execute_result"
    },
    {
     "data": {
      "image/png": "[encoded data removed]",
      "text/plain": [
       "<Figure size 432x288 with 1 Axes>"
      ]
     },
     "metadata": {
      "needs_background": "light"
     },
     "output_type": "display_data"
    }
   ],
   "source": [
    "plt.plot(SNY.index[3:],SNY_actual,'r')\n",
    "plt.plot(SNY.index[3:],SNY_base,'b')\n",
    "plt.plot(SNY.index[3:],SNY_trends,'g')"
   ]
  },
  {
   "cell_type": "code",
   "execution_count": null,
   "metadata": {},
   "outputs": [],
   "source": []
  }
 ],
 "metadata": {
  "kernelspec": {
   "display_name": "Python [conda env:root] *",
   "language": "python",
   "name": "conda-root-py"
  },
  "language_info": {
   "codemirror_mode": {
    "name": "ipython",
    "version": 3
   },
   "file_extension": ".py",
   "mimetype": "text/x-python",
   "name": "python",
   "nbconvert_exporter": "python",
   "pygments_lexer": "ipython3",
   "version": "3.8.3"
  }
 },
 "nbformat": 4,
 "nbformat_minor": 4
}
