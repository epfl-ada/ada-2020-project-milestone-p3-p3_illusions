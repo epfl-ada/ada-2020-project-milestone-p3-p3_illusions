{
 "cells": [
  {
   "cell_type": "code",
   "execution_count": 219,
   "metadata": {},
   "outputs": [],
   "source": [
    "import pandas as pd\n",
    "import numpy as np\n",
    "import math\n",
    "import matplotlib.pyplot as plt\n",
    "import seaborn as sns\n",
    "from astropy.table import QTable, Table, Column\n",
    "from sklearn.linear_model import LinearRegression\n",
    "from sklearn.metrics import mean_absolute_error as MAE\n",
    "from statsmodels.tsa.ar_model import AutoReg"
   ]
  },
  {
   "cell_type": "markdown",
   "metadata": {},
   "source": [
    "## What Google searchers are related to the pharmaceutical stock price?\n",
    "We want to discover the relationship between Google seachers and certain stock price. Here we choose pharmaceutical stocks. We find five pharmaceutical companies' weekly stock price from 2019-12-02 to 2020-11-30. In terms of Google trends variables, we choose virus, flu and vaccine at first, because we think COVID-19 has an impressive effect on the stock price. With the experiment in 'Model Test', we choose to use AR-1 model."
   ]
  },
  {
   "cell_type": "code",
   "execution_count": 185,
   "metadata": {},
   "outputs": [],
   "source": [
    "# Load the data\n",
    "GSK_2020 = pd.read_csv('data/GSK_2020.csv',index_col=0, parse_dates=True)\n",
    "JNJ_2020 = pd.read_csv('data/JNJ_2020.csv',index_col=0, parse_dates=True)\n",
    "MRK_2020 = pd.read_csv('data/MRK_2020.csv',index_col=0, parse_dates=True)\n",
    "PFE_2020 = pd.read_csv('data/PFE_2020.csv',index_col=0, parse_dates=True)\n",
    "SNY_2020 = pd.read_csv('data/SNY_2020.csv',index_col=0, parse_dates=True)"
   ]
  },
  {
   "cell_type": "code",
   "execution_count": 186,
   "metadata": {},
   "outputs": [],
   "source": [
    "#Add log value of price\n",
    "GSK_2020['log_Adj_Close'] = np.log(GSK_2020['Adj Close'])\n",
    "JNJ_2020['log_Adj_Close'] = np.log(JNJ_2020['Adj Close'])\n",
    "MRK_2020['log_Adj_Close'] = np.log(MRK_2020['Adj Close'])\n",
    "PFE_2020['log_Adj_Close'] = np.log(PFE_2020['Adj Close'])\n",
    "SNY_2020['log_Adj_Close'] = np.log(SNY_2020['Adj Close'])"
   ]
  },
  {
   "cell_type": "code",
   "execution_count": 187,
   "metadata": {},
   "outputs": [
    {
     "data": {
      "text/html": [
       "<div>\n",
       "<style scoped>\n",
       "    .dataframe tbody tr th:only-of-type {\n",
       "        vertical-align: middle;\n",
       "    }\n",
       "\n",
       "    .dataframe tbody tr th {\n",
       "        vertical-align: top;\n",
       "    }\n",
       "\n",
       "    .dataframe thead th {\n",
       "        text-align: right;\n",
       "    }\n",
       "</style>\n",
       "<table border=\"1\" class=\"dataframe\">\n",
       "  <thead>\n",
       "    <tr style=\"text-align: right;\">\n",
       "      <th></th>\n",
       "      <th>Adj Close</th>\n",
       "      <th>Vaccine</th>\n",
       "      <th>Virus</th>\n",
       "      <th>Flu</th>\n",
       "      <th>Health</th>\n",
       "      <th>Fin</th>\n",
       "      <th>log_Adj_Close</th>\n",
       "    </tr>\n",
       "    <tr>\n",
       "      <th>Date</th>\n",
       "      <th></th>\n",
       "      <th></th>\n",
       "      <th></th>\n",
       "      <th></th>\n",
       "      <th></th>\n",
       "      <th></th>\n",
       "      <th></th>\n",
       "    </tr>\n",
       "  </thead>\n",
       "  <tbody>\n",
       "    <tr>\n",
       "      <th>2019-12-02</th>\n",
       "      <td>43.315044</td>\n",
       "      <td>15</td>\n",
       "      <td>2</td>\n",
       "      <td>16</td>\n",
       "      <td>60</td>\n",
       "      <td>80</td>\n",
       "      <td>3.768500</td>\n",
       "    </tr>\n",
       "    <tr>\n",
       "      <th>2019-12-09</th>\n",
       "      <td>43.762375</td>\n",
       "      <td>14</td>\n",
       "      <td>2</td>\n",
       "      <td>18</td>\n",
       "      <td>60</td>\n",
       "      <td>82</td>\n",
       "      <td>3.778774</td>\n",
       "    </tr>\n",
       "    <tr>\n",
       "      <th>2019-12-16</th>\n",
       "      <td>45.037754</td>\n",
       "      <td>13</td>\n",
       "      <td>2</td>\n",
       "      <td>20</td>\n",
       "      <td>60</td>\n",
       "      <td>85</td>\n",
       "      <td>3.807501</td>\n",
       "    </tr>\n",
       "    <tr>\n",
       "      <th>2019-12-23</th>\n",
       "      <td>45.009193</td>\n",
       "      <td>11</td>\n",
       "      <td>2</td>\n",
       "      <td>24</td>\n",
       "      <td>55</td>\n",
       "      <td>75</td>\n",
       "      <td>3.806867</td>\n",
       "    </tr>\n",
       "    <tr>\n",
       "      <th>2019-12-30</th>\n",
       "      <td>44.238262</td>\n",
       "      <td>12</td>\n",
       "      <td>2</td>\n",
       "      <td>24</td>\n",
       "      <td>57</td>\n",
       "      <td>80</td>\n",
       "      <td>3.789590</td>\n",
       "    </tr>\n",
       "  </tbody>\n",
       "</table>\n",
       "</div>"
      ],
      "text/plain": [
       "            Adj Close  Vaccine  Virus  Flu  Health  Fin  log_Adj_Close\n",
       "Date                                                                  \n",
       "2019-12-02  43.315044       15      2   16      60   80       3.768500\n",
       "2019-12-09  43.762375       14      2   18      60   82       3.778774\n",
       "2019-12-16  45.037754       13      2   20      60   85       3.807501\n",
       "2019-12-23  45.009193       11      2   24      55   75       3.806867\n",
       "2019-12-30  44.238262       12      2   24      57   80       3.789590"
      ]
     },
     "execution_count": 187,
     "metadata": {},
     "output_type": "execute_result"
    }
   ],
   "source": [
    "GSK_2020.head()"
   ]
  },
  {
   "cell_type": "code",
   "execution_count": 188,
   "metadata": {},
   "outputs": [],
   "source": [
    "# Actual Value\n",
    "GSK_actual_2020 = GSK_2020['log_Adj_Close'][2:]\n",
    "JNJ_actual_2020 = JNJ_2020['log_Adj_Close'][2:]\n",
    "MRK_actual_2020 = MRK_2020['log_Adj_Close'][2:]\n",
    "PFE_actual_2020 = PFE_2020['log_Adj_Close'][2:]\n",
    "SNY_actual_2020 = SNY_2020['log_Adj_Close'][2:]"
   ]
  },
  {
   "cell_type": "markdown",
   "metadata": {},
   "source": [
    "## Helper functions for building the model and making the out-sample prediction"
   ]
  },
  {
   "cell_type": "code",
   "execution_count": 221,
   "metadata": {},
   "outputs": [],
   "source": [
    "def base_prediction(stock):\n",
    "    pred_base = []\n",
    "    base_xtrain = []\n",
    "    base_ytrain = []\n",
    "    for i in range(len(stock)-2):\n",
    "        base_xtrain.append(stock.iloc[i]['log_Adj_Close'])\n",
    "        base_ytrain.append(stock.iloc[i+1]['log_Adj_Close'])\n",
    "        # Reshape the list to array for model fitting\n",
    "        temp_x = np.array(base_xtrain).reshape(-1,1)\n",
    "        temp_y = np.array(base_ytrain).reshape(-1,1)\n",
    "        # Train the model with the training data set\n",
    "        model = LinearRegression().fit(temp_x, temp_y)\n",
    "        # Implement the model function to predict the value\n",
    "        yhat = np.dot(model.coef_, [stock.iloc[i+1]['log_Adj_Close']]) + model.intercept_\n",
    "        # Store the prediction \n",
    "        pred_base.append(yhat[0])\n",
    "        \n",
    "    return pred_base\n",
    "\n",
    "def gt_prediction(stock, var):\n",
    "    '''Single trends data prediction'''\n",
    "    pred_trends = []\n",
    "    trends_xtrain = []\n",
    "    trends_ytrain = []\n",
    "    for i in range(len(stock)-2):\n",
    "        trends_xtrain.append([stock.iloc[i]['log_Adj_Close'],stock.iloc[i+1][var]])\n",
    "        trends_ytrain.append(stock.iloc[i+1]['log_Adj_Close'])\n",
    "        # Reshape the list to array for model fitting\n",
    "        temp_x = np.array(trends_xtrain).reshape(-1,len(var)+1)\n",
    "        temp_y = np.array(trends_ytrain).reshape(-1,1)\n",
    "        # Train the model with the training data set\n",
    "        model = LinearRegression().fit(temp_x, temp_y)\n",
    "        # Implement the model function to predict the value\n",
    "        yhat = np.dot(model.coef_, [stock.iloc[i+1]['log_Adj_Close'],stock.iloc[i+2][var]]) + model.intercept_\n",
    "        # Store the prediction \n",
    "        pred_trends.append(yhat[0])\n",
    "    return pred_trends\n",
    "\n",
    "def trends_prediction_p1(stock):\n",
    "    '''Trends Prediction with a combination of Virus, Vaccine and Flu'''\n",
    "    pred_trends = []\n",
    "    trends_xtrain = []\n",
    "    trends_ytrain = []\n",
    "    for i in range(len(stock)-2):\n",
    "        trends_xtrain.append([stock.iloc[i]['log_Adj_Close'],stock.iloc[i+1]['Virus'],stock.iloc[i+1]['Vaccine'],stock.iloc[i+1]['Flu']])\n",
    "        trends_ytrain.append(stock.iloc[i+1]['log_Adj_Close'])\n",
    "        # Reshape the list to array for model fitting\n",
    "        temp_x = np.array(trends_xtrain).reshape(-1,4)\n",
    "        temp_y = np.array(trends_ytrain).reshape(-1,1)\n",
    "        # Train the model with the training data set\n",
    "        model = LinearRegression().fit(temp_x, temp_y)\n",
    "        # Implement the model function to predict the value\n",
    "        yhat = np.dot(model.coef_, [stock.iloc[i+1]['log_Adj_Close'],stock.iloc[i+2]['Virus'],stock.iloc[i+2]['Vaccine'],stock.iloc[i+2]['Flu']]) + model.intercept_\n",
    "        # Store the prediction \n",
    "        pred_trends.append(yhat[0])\n",
    "    return pred_trends\n",
    "\n",
    "def trends_prediction_p2(stock):\n",
    "    '''Trends Prediction with a combination of Vaccine and Flu'''\n",
    "    pred_trends = []\n",
    "    trends_xtrain = []\n",
    "    trends_ytrain = []\n",
    "    for i in range(len(stock)-2):\n",
    "        trends_xtrain.append([stock.iloc[i]['log_Adj_Close'],stock.iloc[i+1]['Vaccine'],stock.iloc[i+1]['Flu']])\n",
    "        trends_ytrain.append(stock.iloc[i+1]['log_Adj_Close'])\n",
    "        # Reshape the list to array for model fitting\n",
    "        temp_x = np.array(trends_xtrain).reshape(-1,3)\n",
    "        temp_y = np.array(trends_ytrain).reshape(-1,1)\n",
    "        # Train the model with the training data set\n",
    "        model = LinearRegression().fit(temp_x, temp_y)\n",
    "        # Implement the model function to predict the value\n",
    "        yhat = np.dot(model.coef_, [stock.iloc[i+1]['log_Adj_Close'],stock.iloc[i+2]['Vaccine'],stock.iloc[i+2]['Flu']]) + model.intercept_\n",
    "        # Store the prediction \n",
    "        pred_trends.append(yhat[0])\n",
    "    return pred_trends"
   ]
  },
  {
   "cell_type": "code",
   "execution_count": 191,
   "metadata": {},
   "outputs": [],
   "source": [
    "# Base Prediction\n",
    "GSK_base_2020 = base_prediction(GSK_2020)\n",
    "JNJ_base_2020 = base_prediction(JNJ_2020)\n",
    "MRK_base_2020 = base_prediction(MRK_2020)\n",
    "PFE_base_2020 = base_prediction(PFE_2020)\n",
    "SNY_base_2020 = base_prediction(SNY_2020)"
   ]
  },
  {
   "cell_type": "code",
   "execution_count": 192,
   "metadata": {},
   "outputs": [],
   "source": [
    "# Report MAE for Base Model\n",
    "MAE_GSK_base_2020 = MAE(GSK_base_2020,GSK_actual_2020)\n",
    "MAE_PFE_base_2020 = MAE(PFE_base_2020,PFE_actual_2020)\n",
    "MAE_JNJ_base_2020 = MAE(JNJ_base_2020,JNJ_actual_2020)\n",
    "MAE_SNY_base_2020 = MAE(SNY_base_2020,SNY_actual_2020)\n",
    "MAE_MRK_base_2020 = MAE(MRK_base_2020,MRK_actual_2020)"
   ]
  },
  {
   "cell_type": "code",
   "execution_count": 222,
   "metadata": {},
   "outputs": [],
   "source": [
    "# Virus Prediction\n",
    "var = ['Virus']\n",
    "GSK_virus_2020 = gt_prediction(GSK_2020, var)\n",
    "PFE_virus_2020 = gt_prediction(PFE_2020, var)\n",
    "MRK_virus_2020 = gt_prediction(MRK_2020, var)\n",
    "JNJ_virus_2020 = gt_prediction(JNJ_2020, var)\n",
    "SNY_virus_2020 = gt_prediction(SNY_2020, var)"
   ]
  },
  {
   "cell_type": "code",
   "execution_count": 195,
   "metadata": {},
   "outputs": [],
   "source": [
    "# Report MAE for Virus Model\n",
    "MAE_GSK_virus_2020 = MAE(GSK_virus_2020,GSK_actual_2020)\n",
    "MAE_PFE_virus_2020 = MAE(PFE_virus_2020,PFE_actual_2020)\n",
    "MAE_SNY_virus_2020 = MAE(SNY_virus_2020,SNY_actual_2020)\n",
    "MAE_JNJ_virus_2020 = MAE(JNJ_virus_2020,JNJ_actual_2020)\n",
    "MAE_MRK_virus_2020 = MAE(MRK_virus_2020,MRK_actual_2020)"
   ]
  },
  {
   "cell_type": "code",
   "execution_count": 223,
   "metadata": {},
   "outputs": [],
   "source": [
    "# Vaccine Prediction\n",
    "var = ['Vaccine']\n",
    "GSK_vaccine_2020 = gt_prediction(GSK_2020, var)\n",
    "GSK_vaccine_2020 = gt_prediction(GSK_2020, var)\n",
    "PFE_vaccine_2020 = gt_prediction(PFE_2020, var)\n",
    "MRK_vaccine_2020 = gt_prediction(MRK_2020, var)\n",
    "JNJ_vaccine_2020 = gt_prediction(JNJ_2020, var)\n",
    "SNY_vaccine_2020 = gt_prediction(SNY_2020, var)"
   ]
  },
  {
   "cell_type": "code",
   "execution_count": 197,
   "metadata": {},
   "outputs": [],
   "source": [
    "# Report MAE for Vaccine Model\n",
    "MAE_GSK_vaccine_2020 = MAE(GSK_vaccine_2020,GSK_actual_2020)\n",
    "MAE_PFE_vaccine_2020 = MAE(PFE_vaccine_2020,PFE_actual_2020)\n",
    "MAE_SNY_vaccine_2020 = MAE(SNY_vaccine_2020,SNY_actual_2020)\n",
    "MAE_JNJ_vaccine_2020 = MAE(JNJ_vaccine_2020,JNJ_actual_2020)\n",
    "MAE_MRK_vaccine_2020 = MAE(MRK_vaccine_2020,MRK_actual_2020)"
   ]
  },
  {
   "cell_type": "code",
   "execution_count": 224,
   "metadata": {},
   "outputs": [],
   "source": [
    "# Flu Prediction\n",
    "var = ['Flu']\n",
    "GSK_flu_2020 = gt_prediction(GSK_2020, var)\n",
    "PFE_flu_2020 = gt_prediction(PFE_2020, var)\n",
    "MRK_flu_2020 = gt_prediction(MRK_2020, var)\n",
    "JNJ_flu_2020 = gt_prediction(JNJ_2020, var)\n",
    "SNY_flu_2020 = gt_prediction(SNY_2020, var)"
   ]
  },
  {
   "cell_type": "code",
   "execution_count": 199,
   "metadata": {},
   "outputs": [],
   "source": [
    "# Report MAE for Flu Model\n",
    "MAE_GSK_flu_2020 = MAE(GSK_flu_2020,GSK_actual_2020)\n",
    "MAE_PFE_flu_2020 = MAE(PFE_flu_2020,PFE_actual_2020)\n",
    "MAE_SNY_flu_2020 = MAE(SNY_flu_2020,SNY_actual_2020)\n",
    "MAE_JNJ_flu_2020 = MAE(JNJ_flu_2020,JNJ_actual_2020)\n",
    "MAE_MRK_flu_2020 = MAE(MRK_flu_2020,MRK_actual_2020)"
   ]
  },
  {
   "cell_type": "code",
   "execution_count": 225,
   "metadata": {},
   "outputs": [],
   "source": [
    "# Trends Prediction - recession period 1\n",
    "GSK_trends_2020_p1 = trends_prediction_p1(GSK_2020)\n",
    "JNJ_trends_2020_p1 = trends_prediction_p1(JNJ_2020)\n",
    "MRK_trends_2020_p1 = trends_prediction_p1(MRK_2020)\n",
    "PFE_trends_2020_p1 = trends_prediction_p1(PFE_2020)\n",
    "SNY_trends_2020_p1 = trends_prediction_p1(SNY_2020)"
   ]
  },
  {
   "cell_type": "code",
   "execution_count": 227,
   "metadata": {},
   "outputs": [],
   "source": [
    "# Trends Prediction - recession period 2\n",
    "GSK_trends_2020_p2 = trends_prediction_p2(GSK_2020)\n",
    "JNJ_trends_2020_p2 = trends_prediction_p2(JNJ_2020)\n",
    "MRK_trends_2020_p2 = trends_prediction_p2(MRK_2020)\n",
    "PFE_trends_2020_p2 = trends_prediction_p2(PFE_2020)\n",
    "SNY_trends_2020_p2 = trends_prediction_p2(SNY_2020)"
   ]
  },
  {
   "cell_type": "code",
   "execution_count": 20,
   "metadata": {},
   "outputs": [],
   "source": [
    "# Report MAE for Trends Model\n",
    "MAE_GSK_trends_2020 = MAE(GSK_trends_2020,GSK_actual_2020)\n",
    "MAE_PFE_trends_2020 = MAE(PFE_trends_2020,PFE_actual_2020)\n",
    "MAE_SNY_trends_2020 = MAE(SNY_trends_2020,SNY_actual_2020)\n",
    "MAE_JNJ_trends_2020 = MAE(JNJ_trends_2020,JNJ_actual_2020)\n",
    "MAE_MRK_trends_2020 = MAE(MRK_trends_2020,MRK_actual_2020)"
   ]
  },
  {
   "cell_type": "code",
   "execution_count": 21,
   "metadata": {},
   "outputs": [],
   "source": [
    "# Report absolute error for base\n",
    "AE_GSK_b = abs(GSK_base_2020 - GSK_actual_2020)\n",
    "AE_JNJ_b = abs(JNJ_base_2020 - JNJ_actual_2020)\n",
    "AE_MRK_b = abs(MRK_base_2020 - MRK_actual_2020)\n",
    "AE_PFE_b = abs(PFE_base_2020 - PFE_actual_2020)\n",
    "AE_SNY_b = abs(SNY_base_2020 - SNY_actual_2020)"
   ]
  },
  {
   "cell_type": "code",
   "execution_count": 22,
   "metadata": {},
   "outputs": [],
   "source": [
    "# Report absolute error for 'virus'\n",
    "AE_GSK_t = abs(GSK_virus_2020 - GSK_actual_2020)\n",
    "AE_JNJ_t = abs(JNJ_virus_2020 - JNJ_actual_2020)\n",
    "AE_MRK_t = abs(MRK_virus_2020 - MRK_actual_2020)\n",
    "AE_PFE_t = abs(PFE_virus_2020 - PFE_actual_2020)\n",
    "AE_SNY_t = abs(SNY_virus_2020 - SNY_actual_2020)"
   ]
  },
  {
   "cell_type": "code",
   "execution_count": 23,
   "metadata": {},
   "outputs": [],
   "source": [
    "# Report absolute error for 'vaccine'\n",
    "AE_GSK_t = abs(GSK_vaccine_2020 - GSK_actual_2020)\n",
    "AE_JNJ_t = abs(JNJ_vaccine_2020 - JNJ_actual_2020)\n",
    "AE_MRK_t = abs(MRK_vaccine_2020 - MRK_actual_2020)\n",
    "AE_PFE_t = abs(PFE_vaccine_2020 - PFE_actual_2020)\n",
    "AE_SNY_t = abs(SNY_vaccine_2020 - SNY_actual_2020)"
   ]
  },
  {
   "cell_type": "code",
   "execution_count": 24,
   "metadata": {},
   "outputs": [],
   "source": [
    "# Report absolute error for 'flu'\n",
    "AE_GSK_t = abs(GSK_flu_2020 - GSK_actual_2020)\n",
    "AE_JNJ_t = abs(JNJ_flu_2020 - JNJ_actual_2020)\n",
    "AE_MRK_t = abs(MRK_flu_2020 - MRK_actual_2020)\n",
    "AE_PFE_t = abs(PFE_flu_2020 - PFE_actual_2020)\n",
    "AE_SNY_t = abs(SNY_flu_2020 - SNY_actual_2020)"
   ]
  },
  {
   "cell_type": "code",
   "execution_count": 25,
   "metadata": {},
   "outputs": [],
   "source": [
    "# Report absolute error for trends\n",
    "AE_GSK_t = abs(GSK_trends_2020 - GSK_actual_2020)\n",
    "AE_JNJ_t = abs(JNJ_trends_2020 - JNJ_actual_2020)\n",
    "AE_MRK_t = abs(MRK_trends_2020 - MRK_actual_2020)\n",
    "AE_PFE_t = abs(PFE_trends_2020 - PFE_actual_2020)\n",
    "AE_SNY_t = abs(SNY_trends_2020 - SNY_actual_2020)"
   ]
  },
  {
   "cell_type": "code",
   "execution_count": 26,
   "metadata": {},
   "outputs": [
    {
     "name": "stdout",
     "output_type": "stream",
     "text": [
      "  MAE Type    GSK     JNJ     MRK     PFE     SNY  \n",
      "----------- ------- ------- ------- ------- -------\n",
      "   Base MAE 0.03423 0.02968 0.03699 0.04745  0.0339\n",
      " Trends MAE 0.03773 0.03284 0.03726 0.03565 0.02932\n",
      "Vaccine MAE 0.03794  0.0348 0.03398 0.04127 0.03805\n",
      "  Virus MAE 0.03766 0.02736 0.03462 0.04155 0.02609\n",
      "    Flu MAE 0.03852 0.02927  0.0325 0.03521   0.027\n"
     ]
    }
   ],
   "source": [
    "# Make the table\n",
    "data_rows = ([\"Base MAE\", round(MAE_GSK_base_2020, 5), round(MAE_JNJ_base_2020, 5), round(MAE_MRK_base_2020, 5),round(MAE_PFE_base_2020, 5),round(MAE_SNY_base_2020, 5)],\n",
    "             [\"Trends MAE\", round(MAE_GSK_trends_2020, 5), round(MAE_JNJ_trends_2020, 5),round(MAE_MRK_trends_2020, 5),round(MAE_PFE_trends_2020, 5),round(MAE_SNY_trends_2020, 5)],\n",
    "            [\"Vaccine MAE\", round(MAE_GSK_vaccine_2020, 5), round(MAE_JNJ_vaccine_2020, 5),round(MAE_MRK_vaccine_2020, 5),round(MAE_PFE_vaccine_2020, 5),round(MAE_SNY_vaccine_2020, 5)],\n",
    "            [\"Virus MAE\", round(MAE_GSK_virus_2020, 5), round(MAE_JNJ_virus_2020, 5),round(MAE_MRK_virus_2020, 5),round(MAE_PFE_virus_2020, 5),round(MAE_SNY_virus_2020, 5)],\n",
    "            [\"Flu MAE\", round(MAE_GSK_flu_2020, 5), round(MAE_JNJ_flu_2020, 5),round(MAE_MRK_flu_2020, 5),round(MAE_PFE_flu_2020, 5),round(MAE_SNY_flu_2020, 5)])\n",
    "t1 = Table(rows=data_rows, names=('MAE Type', 'GSK', 'JNJ', 'MRK', 'PFE', 'SNY'))\n",
    "#print(' Behavio of MAE around Turning Points - Period 1')\n",
    "print(t1)"
   ]
  },
  {
   "cell_type": "markdown",
   "metadata": {},
   "source": [
    "We find that combination of virus and vaccine works well for PFE and SNY; Vaccine works well for MRK and PFE; Virus works well for about all the stock except GSK; flu works well for JNJ, MRK, PFE and SNY. It seems that all trends variables perform well on the PFE and do not perform well on the GSK. We want to look deeper in GSK."
   ]
  },
  {
   "cell_type": "code",
   "execution_count": 27,
   "metadata": {},
   "outputs": [],
   "source": [
    "# Calculate the difference of absolute error between the base prediction and trends prediction\n",
    "diff_AE_GSK = AE_GSK_b - AE_GSK_t\n",
    "diff_AE_JNJ = AE_JNJ_b - AE_JNJ_t\n",
    "diff_AE_MRK = AE_MRK_b - AE_MRK_t\n",
    "diff_AE_PFE = AE_PFE_b - AE_PFE_t\n",
    "diff_AE_SNY = AE_SNY_b - AE_SNY_t"
   ]
  },
  {
   "cell_type": "code",
   "execution_count": 28,
   "metadata": {},
   "outputs": [],
   "source": [
    "def plot(stock, actual, base, trends):\n",
    "    plt.plot(stock.index[2:], actual, color='black', label='Actual')\n",
    "    plt.plot(stock.index[2:], base, color='black', label='Base', linestyle=\":\")\n",
    "    plt.plot(stock.index[2:], trends, color='gray', label='trends')\n",
    "    plt.legend()\n",
    "    plt.xlabel('Time')\n",
    "    plt.ylabel('Stock Price')"
   ]
  },
  {
   "cell_type": "code",
   "execution_count": 235,
   "metadata": {
    "scrolled": false
   },
   "outputs": [
    {
     "data": {
      "image/png": "[encoded data removed]",
      "text/plain": [
       "<Figure size 432x288 with 1 Axes>"
      ]
     },
     "metadata": {
      "needs_background": "light"
     },
     "output_type": "display_data"
    }
   ],
   "source": [
    "# GSK Virus\n",
    "plot(GSK_2020, GSK_actual_2020, GSK_base_2020, GSK_virus_2020)"
   ]
  },
  {
   "cell_type": "code",
   "execution_count": 236,
   "metadata": {
    "scrolled": true
   },
   "outputs": [
    {
     "data": {
      "image/png": "[encoded data removed]",
      "text/plain": [
       "<Figure size 432x288 with 1 Axes>"
      ]
     },
     "metadata": {
      "needs_background": "light"
     },
     "output_type": "display_data"
    }
   ],
   "source": [
    "# JNJ Virus\n",
    "plot(JNJ_2020, JNJ_actual_2020, JNJ_base_2020, JNJ_virus_2020)"
   ]
  },
  {
   "cell_type": "markdown",
   "metadata": {},
   "source": [
    "It is obvious that all the stocks were encountered a recession period in 2020-03 and 2020-11, we want to discover whether the trends variables improve the prediction around the turning point."
   ]
  },
  {
   "cell_type": "code",
   "execution_count": 207,
   "metadata": {},
   "outputs": [],
   "source": [
    "# Recession periods\n",
    "p1_GSK = GSK_actual_2020[(GSK_actual_2020.index>=\"2020/03/01\")&(GSK_actual_2020.index<\"2020/05/01\")]\n",
    "p1_JNJ = JNJ_actual_2020[(JNJ_actual_2020.index>=\"2020/03/01\")&(JNJ_actual_2020.index<\"2020/05/01\")]\n",
    "p1_MRK = MRK_actual_2020[(MRK_actual_2020.index>=\"2020/03/01\")&(MRK_actual_2020.index<\"2020/05/01\")]\n",
    "p1_PFE = PFE_actual_2020[(PFE_actual_2020.index>=\"2020/03/01\")&(PFE_actual_2020.index<\"2020/05/01\")]\n",
    "p1_SNY = SNY_actual_2020[(SNY_actual_2020.index>=\"2020/03/01\")&(SNY_actual_2020.index<\"2020/05/01\")]\n",
    "\n",
    "p2_GSK = GSK_actual_2020[(GSK_actual_2020.index>=\"2020/09/15\")&(GSK_actual_2020.index<\"2020/11/01\")]\n",
    "p2_JNJ = JNJ_actual_2020[(JNJ_actual_2020.index>=\"2020/09/15\")&(JNJ_actual_2020.index<\"2020/11/01\")]\n",
    "p2_MRK = MRK_actual_2020[(MRK_actual_2020.index>=\"2020/09/15\")&(MRK_actual_2020.index<\"2020/11/01\")]\n",
    "p2_PFE = PFE_actual_2020[(PFE_actual_2020.index>=\"2020/09/15\")&(PFE_actual_2020.index<\"2020/11/01\")]\n",
    "p2_SNY = SNY_actual_2020[(SNY_actual_2020.index>=\"2020/09/15\")&(SNY_actual_2020.index<\"2020/11/01\")]"
   ]
  },
  {
   "cell_type": "code",
   "execution_count": 208,
   "metadata": {},
   "outputs": [],
   "source": [
    "start1 = GSK_actual_2020.index.get_loc(p1_GSK.index[0])-2\n",
    "end1 = GSK_actual_2020.index.get_loc(p1_GSK.index[-1])-1\n",
    "\n",
    "start2 = GSK_actual_2020.index.get_loc(p2_GSK.index[0])-2\n",
    "end2 = GSK_actual_2020.index.get_loc(p2_GSK.index[-1])-1"
   ]
  },
  {
   "cell_type": "markdown",
   "metadata": {},
   "source": [
    "Select the data corresponding to each period"
   ]
  },
  {
   "cell_type": "code",
   "execution_count": 209,
   "metadata": {},
   "outputs": [],
   "source": [
    "p1_GSK_base = GSK_base_2020[start1 : end1]\n",
    "p1_JNJ_base = JNJ_base_2020[start1 : end1]\n",
    "p1_MRK_base = MRK_base_2020[start1 : end1]\n",
    "p1_PFE_base = PFE_base_2020[start1 : end1]\n",
    "p1_SNY_base = SNY_base_2020[start1 : end1]\n",
    "\n",
    "p2_GSK_base = GSK_base_2020[start2 : end2]\n",
    "p2_JNJ_base = JNJ_base_2020[start2 : end2]\n",
    "p2_MRK_base = MRK_base_2020[start2 : end2]\n",
    "p2_PFE_base = PFE_base_2020[start2 : end2]\n",
    "p2_SNY_base = SNY_base_2020[start2 : end2]"
   ]
  },
  {
   "cell_type": "code",
   "execution_count": 41,
   "metadata": {},
   "outputs": [],
   "source": [
    "p1_GSK_trends = GSK_virus_2020[start1 : end1]\n",
    "p1_JNJ_trends = JNJ_virus_2020[start1 : end1]\n",
    "p1_MRK_trends = MRK_virus_2020[start1 : end1]\n",
    "p1_PFE_trends = PFE_virus_2020[start1 : end1]\n",
    "p1_SNY_trends = SNY_virus_2020[start1 : end1]\n",
    "\n",
    "p2_GSK_trends = GSK_virus_2020[start2 : end2]\n",
    "p2_JNJ_trends = JNJ_virus_2020[start2 : end2]\n",
    "p2_MRK_trends = MRK_virus_2020[start2 : end2]\n",
    "p2_PFE_trends = PFE_virus_2020[start2 : end2]\n",
    "p2_SNY_trends = SNY_virus_2020[start2 : end2]"
   ]
  },
  {
   "cell_type": "code",
   "execution_count": 42,
   "metadata": {},
   "outputs": [],
   "source": [
    "p1_GSK_trends = GSK_vaccine_2020[start1 : end1]\n",
    "p1_JNJ_trends = JNJ_vaccine_2020[start1 : end1]\n",
    "p1_MRK_trends = MRK_vaccine_2020[start1 : end1]\n",
    "p1_PFE_trends = PFE_vaccine_2020[start1 : end1]\n",
    "p1_SNY_trends = SNY_vaccine_2020[start1 : end1]\n",
    "\n",
    "p2_GSK_trends = GSK_vaccine_2020[start2 : end2]\n",
    "p2_JNJ_trends = JNJ_vaccine_2020[start2 : end2]\n",
    "p2_MRK_trends = MRK_vaccine_2020[start2 : end2]\n",
    "p2_PFE_trends = PFE_vaccine_2020[start2 : end2]\n",
    "p2_SNY_trends = SNY_vaccine_2020[start2 : end2]"
   ]
  },
  {
   "cell_type": "code",
   "execution_count": 43,
   "metadata": {},
   "outputs": [],
   "source": [
    "p1_GSK_trends = GSK_flu_2020[start1 : end1]\n",
    "p1_JNJ_trends = JNJ_flu_2020[start1 : end1]\n",
    "p1_MRK_trends = MRK_flu_2020[start1 : end1]\n",
    "p1_PFE_trends = PFE_flu_2020[start1 : end1]\n",
    "p1_SNY_trends = SNY_flu_2020[start1 : end1]\n",
    "\n",
    "p2_GSK_trends = GSK_flu_2020[start2 : end2]\n",
    "p2_JNJ_trends = JNJ_flu_2020[start2 : end2]\n",
    "p2_MRK_trends = MRK_flu_2020[start2 : end2]\n",
    "p2_PFE_trends = PFE_flu_2020[start2 : end2]\n",
    "p2_SNY_trends = SNY_flu_2020[start2 : end2]"
   ]
  },
  {
   "cell_type": "code",
   "execution_count": 216,
   "metadata": {},
   "outputs": [],
   "source": [
    "p1_GSK_trends = GSK_trends_2020_p1[start1 : end1]\n",
    "p1_JNJ_trends = JNJ_trends_2020_p1[start1 : end1]\n",
    "p1_MRK_trends = MRK_trends_2020_p1[start1 : end1]\n",
    "p1_PFE_trends = PFE_trends_2020_p1[start1 : end1]\n",
    "p1_SNY_trends = SNY_trends_2020_p1[start1 : end1]\n",
    "\n",
    "p2_GSK_trends = GSK_trends_2020_p2[start2 : end2]\n",
    "p2_JNJ_trends = JNJ_trends_2020_p2[start2 : end2]\n",
    "p2_MRK_trends = MRK_trends_2020_p2[start2 : end2]\n",
    "p2_PFE_trends = PFE_trends_2020_p2[start2 : end2]\n",
    "p2_SNY_trends = SNY_trends_2020_p2[start2 : end2]"
   ]
  },
  {
   "cell_type": "code",
   "execution_count": 217,
   "metadata": {},
   "outputs": [],
   "source": [
    "# Report the MAE for each period\n",
    "MAE_GSK_b1 = MAE(p1_GSK, p1_GSK_base) \n",
    "MAE_GSK_t1 = MAE(p1_GSK, p1_GSK_trends)\n",
    "MAE_JNJ_b1 = MAE(p1_JNJ, p1_JNJ_base) \n",
    "MAE_JNJ_t1 = MAE(p1_JNJ, p1_JNJ_trends)\n",
    "MAE_MRK_b1 = MAE(p1_MRK, p1_MRK_base) \n",
    "MAE_MRK_t1 = MAE(p1_MRK, p1_MRK_trends)\n",
    "MAE_PFE_b1 = MAE(p1_PFE, p1_PFE_base) \n",
    "MAE_PFE_t1 = MAE(p1_PFE, p1_PFE_trends)\n",
    "MAE_SNY_b1 = MAE(p1_SNY, p1_SNY_base) \n",
    "MAE_SNY_t1 = MAE(p1_SNY, p1_SNY_trends)\n",
    "\n",
    "MAE_GSK_b2 = MAE(p2_GSK, p2_GSK_base) \n",
    "MAE_GSK_t2 = MAE(p2_GSK, p2_GSK_trends)\n",
    "MAE_JNJ_b2 = MAE(p2_JNJ, p2_JNJ_base) \n",
    "MAE_JNJ_t2 = MAE(p2_JNJ, p2_JNJ_trends)\n",
    "MAE_MRK_b2 = MAE(p2_MRK, p2_MRK_base) \n",
    "MAE_MRK_t2 = MAE(p2_MRK, p2_MRK_trends)\n",
    "MAE_PFE_b2 = MAE(p2_PFE, p2_PFE_base) \n",
    "MAE_PFE_t2 = MAE(p2_PFE, p2_PFE_trends)\n",
    "MAE_SNY_b2 = MAE(p2_SNY, p2_SNY_base) \n",
    "MAE_SNY_t2 = MAE(p2_SNY, p2_SNY_trends)"
   ]
  },
  {
   "cell_type": "code",
   "execution_count": 212,
   "metadata": {},
   "outputs": [
    {
     "name": "stdout",
     "output_type": "stream",
     "text": [
      " Behavio of MAE around Turning Points - Period 1\n",
      " MAE Type    GSK     JNJ     MRK     PFE     SNY  \n",
      "---------- ------- ------- ------- ------- -------\n",
      "  Base MAE 0.12119 0.11749 0.07502 0.11998 0.11982\n",
      "Trends MAE 0.10255 0.11597 0.07451 0.10765 0.10512\n"
     ]
    }
   ],
   "source": [
    "# Make the table\n",
    "data_rows = ([\"Base MAE\", round(MAE_GSK_b1, 5), round(MAE_JNJ_b1, 5), round(MAE_MRK_b1, 5),round(MAE_PFE_b1, 5),round(MAE_SNY_b1, 5)],\n",
    "             [\"Trends MAE\", round(MAE_GSK_t1, 5), round(MAE_JNJ_t1, 5),round(MAE_MRK_t1, 5),round(MAE_PFE_t1, 5),round(MAE_SNY_t1, 5)])\n",
    "t1 = Table(rows=data_rows, names=('MAE Type', 'GSK', 'JNJ', 'MRK', 'PFE', 'SNY'))\n",
    "print(' Behavio of MAE around Turning Points - Period 1')\n",
    "print(t1)"
   ]
  },
  {
   "cell_type": "code",
   "execution_count": 214,
   "metadata": {
    "scrolled": true
   },
   "outputs": [
    {
     "name": "stdout",
     "output_type": "stream",
     "text": [
      " Behavio of MAE around Turning Points - Period 2 - With only Vaccine and Flue\n",
      " MAE Type    GSK     JNJ     MRK     PFE     SNY  \n",
      "---------- ------- ------- ------- ------- -------\n",
      "  Base MAE 0.05967  0.0235 0.03138 0.02679 0.03081\n",
      "Trends MAE 0.07988 0.02424 0.02612 0.02754 0.02684\n"
     ]
    }
   ],
   "source": [
    "# Make the table\n",
    "data_rows = ([\"Base MAE\", round(MAE_GSK_b2, 5), round(MAE_JNJ_b2, 5), round(MAE_MRK_b2, 5),round(MAE_PFE_b2, 5),round(MAE_SNY_b2, 5)],\n",
    "             [\"Trends MAE\", round(MAE_GSK_t2, 5), round(MAE_JNJ_t2, 5),round(MAE_MRK_t2, 5),round(MAE_PFE_t2, 5),round(MAE_SNY_t2, 5)])\n",
    "t1 = Table(rows=data_rows, names=('MAE Type', 'GSK', 'JNJ', 'MRK', 'PFE', 'SNY'))\n",
    "print(' Behavio of MAE around Turning Points - Period 2 - With only Vaccine and Flue')\n",
    "print(t1)"
   ]
  },
  {
   "cell_type": "markdown",
   "metadata": {},
   "source": [
    "Visualization of difference of absolute error between base and trends prediction"
   ]
  },
  {
   "cell_type": "code",
   "execution_count": 48,
   "metadata": {
    "scrolled": true
   },
   "outputs": [
    {
     "data": {
      "text/plain": [
       "<BarContainer object of 51 artists>"
      ]
     },
     "execution_count": 48,
     "metadata": {},
     "output_type": "execute_result"
    },
    {
     "data": {
      "image/png": "[encoded data removed]",
      "text/plain": [
       "<Figure size 432x288 with 1 Axes>"
      ]
     },
     "metadata": {
      "needs_background": "light"
     },
     "output_type": "display_data"
    }
   ],
   "source": [
    "# GSK difference in AE\n",
    "plt.bar(pd.to_datetime(diff_AE_GSK.index), diff_AE_GSK)"
   ]
  },
  {
   "cell_type": "code",
   "execution_count": 49,
   "metadata": {},
   "outputs": [
    {
     "data": {
      "text/plain": [
       "<BarContainer object of 51 artists>"
      ]
     },
     "execution_count": 49,
     "metadata": {},
     "output_type": "execute_result"
    },
    {
     "data": {
      "image/png": "[encoded data removed]",
      "text/plain": [
       "<Figure size 432x288 with 1 Axes>"
      ]
     },
     "metadata": {
      "needs_background": "light"
     },
     "output_type": "display_data"
    }
   ],
   "source": [
    "# JNJ difference in AE\n",
    "plt.bar(pd.to_datetime(diff_AE_JNJ.index), diff_AE_JNJ)"
   ]
  },
  {
   "cell_type": "code",
   "execution_count": 50,
   "metadata": {},
   "outputs": [
    {
     "data": {
      "text/plain": [
       "<BarContainer object of 51 artists>"
      ]
     },
     "execution_count": 50,
     "metadata": {},
     "output_type": "execute_result"
    },
    {
     "data": {
      "image/png": "[encoded data removed]",
      "text/plain": [
       "<Figure size 432x288 with 1 Axes>"
      ]
     },
     "metadata": {
      "needs_background": "light"
     },
     "output_type": "display_data"
    }
   ],
   "source": [
    "# MRK difference in AE\n",
    "plt.bar(pd.to_datetime(diff_AE_MRK.index), diff_AE_MRK)"
   ]
  },
  {
   "cell_type": "code",
   "execution_count": 51,
   "metadata": {},
   "outputs": [
    {
     "data": {
      "text/plain": [
       "<BarContainer object of 51 artists>"
      ]
     },
     "execution_count": 51,
     "metadata": {},
     "output_type": "execute_result"
    },
    {
     "data": {
      "image/png": "[encoded data removed]",
      "text/plain": [
       "<Figure size 432x288 with 1 Axes>"
      ]
     },
     "metadata": {
      "needs_background": "light"
     },
     "output_type": "display_data"
    }
   ],
   "source": [
    "# PFE difference in AE\n",
    "plt.bar(pd.to_datetime(diff_AE_PFE.index), diff_AE_PFE)"
   ]
  },
  {
   "cell_type": "code",
   "execution_count": 52,
   "metadata": {},
   "outputs": [
    {
     "data": {
      "text/plain": [
       "<BarContainer object of 51 artists>"
      ]
     },
     "execution_count": 52,
     "metadata": {},
     "output_type": "execute_result"
    },
    {
     "data": {
      "image/png": "[encoded data removed]",
      "text/plain": [
       "<Figure size 432x288 with 1 Axes>"
      ]
     },
     "metadata": {
      "needs_background": "light"
     },
     "output_type": "display_data"
    }
   ],
   "source": [
    "# SNY difference in AE\n",
    "plt.bar(pd.to_datetime(diff_AE_SNY.index), diff_AE_SNY)"
   ]
  },
  {
   "cell_type": "markdown",
   "metadata": {},
   "source": [
    "Through the report of MAE around the turning points and the bar plot, in which a positive value means base MAE is larger than trends MAE, we find that Google Trends variables perform well around the first turning point. However, the performance around the second turning point is not impressive."
   ]
  },
  {
   "cell_type": "markdown",
   "metadata": {},
   "source": [
    "## What categories of Google Trends may improve the prediction?\n",
    "After looking into the keyword seachers, we want to see waht categories of trends data may improve the prediction results. Here we choose 'Health' and 'Finance'， which seems really related to the pharmaceutical stock price."
   ]
  },
  {
   "cell_type": "code",
   "execution_count": 237,
   "metadata": {},
   "outputs": [],
   "source": [
    "var = ['Health']\n",
    "GSK_health_2020 = gt_prediction(GSK_2020, var)\n",
    "PFE_health_2020 = gt_prediction(PFE_2020, var)\n",
    "MRK_health_2020 = gt_prediction(MRK_2020, var)\n",
    "JNJ_health_2020 = gt_prediction(JNJ_2020, var)\n",
    "SNY_health_2020 = gt_prediction(SNY_2020, var)"
   ]
  },
  {
   "cell_type": "code",
   "execution_count": 238,
   "metadata": {},
   "outputs": [],
   "source": [
    "var = ['Fin']\n",
    "GSK_fin_2020 = gt_prediction(GSK_2020, var)\n",
    "PFE_fin_2020 = gt_prediction(PFE_2020, var)\n",
    "MRK_fin_2020 = gt_prediction(MRK_2020, var)\n",
    "JNJ_fin_2020 = gt_prediction(JNJ_2020, var)\n",
    "SNY_fin_2020 = gt_prediction(SNY_2020, var)"
   ]
  },
  {
   "cell_type": "code",
   "execution_count": 55,
   "metadata": {},
   "outputs": [
    {
     "data": {
      "image/png": "[encoded data removed]",
      "text/plain": [
       "<Figure size 432x288 with 1 Axes>"
      ]
     },
     "metadata": {
      "needs_background": "light"
     },
     "output_type": "display_data"
    }
   ],
   "source": [
    "plot(GSK_2020, GSK_actual_2020, GSK_base_2020, GSK_health_2020)"
   ]
  },
  {
   "cell_type": "code",
   "execution_count": 56,
   "metadata": {},
   "outputs": [
    {
     "data": {
      "image/png": "[encoded data removed]",
      "text/plain": [
       "<Figure size 432x288 with 1 Axes>"
      ]
     },
     "metadata": {
      "needs_background": "light"
     },
     "output_type": "display_data"
    }
   ],
   "source": [
    "plot(GSK_2020, GSK_actual_2020, GSK_base_2020, GSK_fin_2020)"
   ]
  },
  {
   "cell_type": "code",
   "execution_count": 240,
   "metadata": {},
   "outputs": [],
   "source": [
    "def trends_prediction_2(stock):\n",
    "    pred_trends = []\n",
    "    trends_xtrain = []\n",
    "    trends_ytrain = []\n",
    "    for i in range(len(stock)-2):\n",
    "        trends_xtrain.append([stock.iloc[i]['log_Adj_Close'],stock.iloc[i+1]['Health'],stock.iloc[i+1]['Fin']])\n",
    "        trends_ytrain.append(stock.iloc[i+1]['log_Adj_Close'])\n",
    "        # Reshape the list to array for model fitting\n",
    "        temp_x = np.array(trends_xtrain).reshape(-1,3)\n",
    "        temp_y = np.array(trends_ytrain).reshape(-1,1)\n",
    "        # Train the model with the training data set\n",
    "        model = LinearRegression().fit(temp_x, temp_y)\n",
    "        # Implement the model function to predict the value\n",
    "        yhat = np.dot(model.coef_, [stock.iloc[i+1]['log_Adj_Close'],stock.iloc[i+2]['Health'],stock.iloc[i+2]['Fin']]) + model.intercept_\n",
    "        # Store the prediction \n",
    "        pred_trends.append(yhat[0])\n",
    "    return pred_trends"
   ]
  },
  {
   "cell_type": "code",
   "execution_count": 241,
   "metadata": {},
   "outputs": [],
   "source": [
    "# Make the trends prediction with categories data\n",
    "GSK_fh_2020 = trends_prediction_2(GSK_2020)\n",
    "PFE_fh_2020 = trends_prediction_2(PFE_2020)\n",
    "MRK_fh_2020 = trends_prediction_2(MRK_2020)\n",
    "JNJ_fh_2020 = trends_prediction_2(JNJ_2020)\n",
    "SNY_fh_2020 = trends_prediction_2(SNY_2020)"
   ]
  },
  {
   "cell_type": "code",
   "execution_count": 70,
   "metadata": {},
   "outputs": [
    {
     "name": "stdout",
     "output_type": "stream",
     "text": [
      " Behavio of MAE with Google catogoriy trends\n",
      "   MAE Type      GSK     JNJ     MRK     PFE     SNY  \n",
      "-------------- ------- ------- ------- ------- -------\n",
      "      Base MAE 0.03423 0.02968 0.03699 0.02679  0.0339\n",
      "    Health MAE 0.03902 0.03035  0.0351 0.05146 0.03004\n",
      "       Fin MAE 0.03736  0.0301 0.03578 0.03834 0.03388\n",
      "Fin-Health MAE 0.04299 0.03234 0.03319 0.04018 0.03075\n"
     ]
    }
   ],
   "source": [
    "data_rows = ([\"Base MAE\", round(MAE(GSK_actual_2020,GSK_base_2020), 5), round(MAE(JNJ_actual_2020,JNJ_base_2020), 5), round(MAE(MRK_actual_2020,MRK_base_2020), 5),round(MAE_PFE_b2, 5),round(MAE(SNY_actual_2020,SNY_base_2020), 5)],\n",
    "             [\"Health MAE\", round(MAE(GSK_actual_2020,GSK_health_2020), 5), round(MAE(JNJ_actual_2020,JNJ_health_2020), 5),round(MAE(MRK_actual_2020,MRK_health_2020), 5),round(MAE(PFE_actual_2020,PFE_health_2020), 5),round(MAE(SNY_actual_2020,SNY_health_2020), 5)],\n",
    "            [\"Fin MAE\", round(MAE(GSK_actual_2020,GSK_fin_2020), 5), round(MAE(JNJ_actual_2020,JNJ_fin_2020), 5),round(MAE(MRK_actual_2020,MRK_fin_2020), 5),round(MAE(PFE_actual_2020,PFE_fin_2020), 5),round(MAE(SNY_actual_2020,SNY_fin_2020), 5)],\n",
    "            [\"Fin-Health MAE\", round(MAE(GSK_actual_2020,GSK_fh_2020), 5), round(MAE(JNJ_actual_2020,JNJ_fh_2020), 5),round(MAE(MRK_actual_2020,MRK_fh_2020), 5),round(MAE(PFE_actual_2020,PFE_fh_2020), 5),round(MAE(SNY_actual_2020,SNY_fh_2020), 5)])\n",
    "t1 = Table(rows=data_rows, names=('MAE Type', 'GSK', 'JNJ', 'MRK', 'PFE', 'SNY'))\n",
    "print(' Behavio of MAE with Google catogoriy trends')\n",
    "print(t1)"
   ]
  },
  {
   "cell_type": "markdown",
   "metadata": {},
   "source": [
    "It can be seen that these categories of trends data can improve some of the prediction. However, they still do not perform well on the prediction of GSK."
   ]
  },
  {
   "cell_type": "code",
   "execution_count": null,
   "metadata": {},
   "outputs": [],
   "source": []
  }
 ],
 "metadata": {
  "kernelspec": {
   "display_name": "Python 3",
   "language": "python",
   "name": "python3"
  },
  "language_info": {
   "codemirror_mode": {
    "name": "ipython",
    "version": 3
   },
   "file_extension": ".py",
   "mimetype": "text/x-python",
   "name": "python",
   "nbconvert_exporter": "python",
   "pygments_lexer": "ipython3",
   "version": "3.8.3"
  }
 },
 "nbformat": 4,
 "nbformat_minor": 4
}
