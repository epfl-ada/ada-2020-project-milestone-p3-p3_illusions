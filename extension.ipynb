{
 "cells": [
  {
   "cell_type": "code",
   "execution_count": 1,
   "metadata": {},
   "outputs": [],
   "source": [
    "import pandas as pd\n",
    "import numpy as np\n",
    "import math\n",
    "import matplotlib.pyplot as plt\n",
    "from sklearn.linear_model import LinearRegression\n",
    "from sklearn.metrics import mean_absolute_error as MAE"
   ]
  },
  {
   "cell_type": "code",
   "execution_count": 6,
   "metadata": {},
   "outputs": [],
   "source": [
    "GSK = pd.read_csv('D:/GSK.csv',index_col=0, parse_dates=True)\n",
    "JNJ = pd.read_csv('D:/JNJ.csv',index_col=0, parse_dates=True)\n",
    "MRK = pd.read_csv('D:/MRK.csv',index_col=0, parse_dates=True)\n",
    "PFE = pd.read_csv('D:/PFE.csv',index_col=0, parse_dates=True)\n",
    "SNY = pd.read_csv('D:/SNY.csv',index_col=0, parse_dates=True)"
   ]
  },
  {
   "cell_type": "code",
   "execution_count": 20,
   "metadata": {},
   "outputs": [
    {
     "data": {
      "text/html": [
       "<div>\n",
       "<style scoped>\n",
       "    .dataframe tbody tr th:only-of-type {\n",
       "        vertical-align: middle;\n",
       "    }\n",
       "\n",
       "    .dataframe tbody tr th {\n",
       "        vertical-align: top;\n",
       "    }\n",
       "\n",
       "    .dataframe thead th {\n",
       "        text-align: right;\n",
       "    }\n",
       "</style>\n",
       "<table border=\"1\" class=\"dataframe\">\n",
       "  <thead>\n",
       "    <tr style=\"text-align: right;\">\n",
       "      <th></th>\n",
       "      <th>Adj Close</th>\n",
       "      <th>Virus</th>\n",
       "      <th>Flu</th>\n",
       "      <th>Vaccine</th>\n",
       "    </tr>\n",
       "    <tr>\n",
       "      <th>Date</th>\n",
       "      <th></th>\n",
       "      <th></th>\n",
       "      <th></th>\n",
       "      <th></th>\n",
       "    </tr>\n",
       "  </thead>\n",
       "  <tbody>\n",
       "    <tr>\n",
       "      <th>2010-11-01</th>\n",
       "      <td>22.901985</td>\n",
       "      <td>5</td>\n",
       "      <td>12</td>\n",
       "      <td>13</td>\n",
       "    </tr>\n",
       "    <tr>\n",
       "      <th>2010-12-01</th>\n",
       "      <td>23.464359</td>\n",
       "      <td>5</td>\n",
       "      <td>16</td>\n",
       "      <td>9</td>\n",
       "    </tr>\n",
       "    <tr>\n",
       "      <th>2011-01-01</th>\n",
       "      <td>21.735352</td>\n",
       "      <td>5</td>\n",
       "      <td>18</td>\n",
       "      <td>12</td>\n",
       "    </tr>\n",
       "    <tr>\n",
       "      <th>2011-02-01</th>\n",
       "      <td>23.099413</td>\n",
       "      <td>5</td>\n",
       "      <td>13</td>\n",
       "      <td>12</td>\n",
       "    </tr>\n",
       "    <tr>\n",
       "      <th>2011-03-01</th>\n",
       "      <td>23.348209</td>\n",
       "      <td>5</td>\n",
       "      <td>9</td>\n",
       "      <td>13</td>\n",
       "    </tr>\n",
       "    <tr>\n",
       "      <th>...</th>\n",
       "      <td>...</td>\n",
       "      <td>...</td>\n",
       "      <td>...</td>\n",
       "      <td>...</td>\n",
       "    </tr>\n",
       "    <tr>\n",
       "      <th>2020-07-01</th>\n",
       "      <td>39.345814</td>\n",
       "      <td>9</td>\n",
       "      <td>22</td>\n",
       "      <td>67</td>\n",
       "    </tr>\n",
       "    <tr>\n",
       "      <th>2020-08-01</th>\n",
       "      <td>38.643208</td>\n",
       "      <td>6</td>\n",
       "      <td>18</td>\n",
       "      <td>62</td>\n",
       "    </tr>\n",
       "    <tr>\n",
       "      <th>2020-09-01</th>\n",
       "      <td>37.163372</td>\n",
       "      <td>5</td>\n",
       "      <td>28</td>\n",
       "      <td>63</td>\n",
       "    </tr>\n",
       "    <tr>\n",
       "      <th>2020-10-01</th>\n",
       "      <td>32.996807</td>\n",
       "      <td>5</td>\n",
       "      <td>34</td>\n",
       "      <td>57</td>\n",
       "    </tr>\n",
       "    <tr>\n",
       "      <th>2020-11-01</th>\n",
       "      <td>36.324139</td>\n",
       "      <td>5</td>\n",
       "      <td>22</td>\n",
       "      <td>100</td>\n",
       "    </tr>\n",
       "  </tbody>\n",
       "</table>\n",
       "<p>121 rows × 4 columns</p>\n",
       "</div>"
      ],
      "text/plain": [
       "            Adj Close  Virus  Flu  Vaccine\n",
       "Date                                      \n",
       "2010-11-01  22.901985      5   12       13\n",
       "2010-12-01  23.464359      5   16        9\n",
       "2011-01-01  21.735352      5   18       12\n",
       "2011-02-01  23.099413      5   13       12\n",
       "2011-03-01  23.348209      5    9       13\n",
       "...               ...    ...  ...      ...\n",
       "2020-07-01  39.345814      9   22       67\n",
       "2020-08-01  38.643208      6   18       62\n",
       "2020-09-01  37.163372      5   28       63\n",
       "2020-10-01  32.996807      5   34       57\n",
       "2020-11-01  36.324139      5   22      100\n",
       "\n",
       "[121 rows x 4 columns]"
      ]
     },
     "execution_count": 20,
     "metadata": {},
     "output_type": "execute_result"
    }
   ],
   "source": [
    "GSK"
   ]
  },
  {
   "cell_type": "code",
   "execution_count": 53,
   "metadata": {},
   "outputs": [
    {
     "data": {
      "text/plain": [
       "12"
      ]
     },
     "execution_count": 53,
     "metadata": {},
     "output_type": "execute_result"
    }
   ],
   "source": [
    "GSK['Flu'][0]"
   ]
  },
  {
   "cell_type": "code",
   "execution_count": 14,
   "metadata": {},
   "outputs": [],
   "source": [
    "def base_prediction(stock):\n",
    "    predict_list = []\n",
    "\n",
    "    for index_i in stock.index:\n",
    "        \n",
    "        #use loc and iloc to get the prior date\n",
    "        loc1 = stock.index.get_loc(index_i)\n",
    "        if(loc1<3):continue\n",
    "        predictor = [stock.iloc[loc1 - 1]['Adj Close']]\n",
    "        predictor = np.array(predictor)\n",
    "        predictor = predictor.reshape(1,-1)\n",
    "        #new list for variables and values for linear regression\n",
    "        X = []\n",
    "        Y = []\n",
    "        for index_j, rows in (stock[(stock.index<index_i) & (stock.index>\"2010-11-01\")]).iterrows():\n",
    "            loc2 = stock.index.get_loc(index_j)\n",
    "            predictors = [stock.iloc[loc2-1]['Adj Close']]\n",
    "            X.append(predictors)\n",
    "            actual = stock.loc[index_j]['Adj Close']\n",
    "            Y.append(actual)\n",
    "        #predictors and actual values in rolling window\n",
    "        X = np.array(X)\n",
    "        Y = np.array(Y)\n",
    "        #optimal parameters from OLS\n",
    "        linreg = LinearRegression()\n",
    "\n",
    "        linreg.fit(X, Y)\n",
    "        #predicted values    \n",
    "        pre = linreg.predict(predictor)[0]\n",
    "        predict_list.append(pre)\n",
    "    \n",
    "    return predict_list"
   ]
  },
  {
   "cell_type": "code",
   "execution_count": 18,
   "metadata": {},
   "outputs": [],
   "source": [
    "GSK_base = base_prediction(GSK)\n",
    "JNJ_base = base_prediction(JNJ)\n",
    "MRK_base = base_prediction(MRK)\n",
    "PFE_base = base_prediction(PFE)\n",
    "SNY_base = base_prediction(SNY)"
   ]
  },
  {
   "cell_type": "code",
   "execution_count": 19,
   "metadata": {},
   "outputs": [
    {
     "data": {
      "text/plain": [
       "118"
      ]
     },
     "execution_count": 19,
     "metadata": {},
     "output_type": "execute_result"
    }
   ],
   "source": [
    "len(GSK_base)"
   ]
  },
  {
   "cell_type": "code",
   "execution_count": 27,
   "metadata": {},
   "outputs": [],
   "source": [
    "GSK_actual = GSK['Adj Close'][3:]\n",
    "JNJ_actual = JNJ['Adj Close'][3:]\n",
    "MRK_actual = MRK['Adj Close'][3:]\n",
    "PFE_actual = PFE['Adj Close'][3:]\n",
    "SNY_actual = SNY['Adj Close'][3:]"
   ]
  },
  {
   "cell_type": "code",
   "execution_count": 24,
   "metadata": {},
   "outputs": [
    {
     "data": {
      "text/plain": [
       "118"
      ]
     },
     "execution_count": 24,
     "metadata": {},
     "output_type": "execute_result"
    }
   ],
   "source": [
    "len(GSK_actual)"
   ]
  },
  {
   "cell_type": "code",
   "execution_count": 40,
   "metadata": {
    "scrolled": true
   },
   "outputs": [
    {
     "data": {
      "text/plain": [
       "[1.3318755994453508,\n",
       " 3.4857000639181517,\n",
       " 2.169207338188688,\n",
       " 1.1002448488303749,\n",
       " 1.6779778174852924]"
      ]
     },
     "execution_count": 40,
     "metadata": {},
     "output_type": "execute_result"
    }
   ],
   "source": [
    "[MAE(GSK_base,GSK_actual),MAE(JNJ_base,JNJ_actual),MAE(MRK_base,MRK_actual),MAE(PFE_base,PFE_actual),MAE(SNY_base,SNY_actual)]"
   ]
  },
  {
   "cell_type": "code",
   "execution_count": 34,
   "metadata": {},
   "outputs": [],
   "source": [
    "def virus_prediction(stock):\n",
    "    predict_list = []\n",
    "\n",
    "    for index_i in stock.index:\n",
    "        \n",
    "        #use loc and iloc to get the prior date\n",
    "        loc1 = stock.index.get_loc(index_i)\n",
    "        if(loc1<3):continue\n",
    "        predictor = [stock.iloc[loc1 - 1]['Adj Close'],stock.loc[index_i]['Virus']]\n",
    "        predictor = np.array(predictor)\n",
    "        predictor = predictor.reshape(1,-1)\n",
    "        #new list for variables and values for linear regression\n",
    "        X = []\n",
    "        Y = []\n",
    "        for index_j, rows in (stock[(stock.index<index_i) & (stock.index>\"2010-11-01\")]).iterrows():\n",
    "            loc2 = stock.index.get_loc(index_j)\n",
    "            predictors = [stock.iloc[loc2-1]['Adj Close'],stock.loc[index_j]['Virus']]\n",
    "            X.append(predictors)\n",
    "            actual = stock.loc[index_j]['Adj Close']\n",
    "            Y.append(actual)\n",
    "        #predictors and actual values in rolling window\n",
    "        X = np.array(X)\n",
    "        Y = np.array(Y)\n",
    "        #optimal parameters from OLS\n",
    "        linreg = LinearRegression()\n",
    "\n",
    "        linreg.fit(X, Y)\n",
    "        #predicted values    \n",
    "        pre = linreg.predict(predictor)[0]\n",
    "        predict_list.append(pre)\n",
    "    \n",
    "    return predict_list"
   ]
  },
  {
   "cell_type": "code",
   "execution_count": 37,
   "metadata": {},
   "outputs": [],
   "source": [
    "GSK_virus = virus_prediction(GSK)\n",
    "JNJ_virus = virus_prediction(JNJ)\n",
    "MRK_virus = virus_prediction(MRK)\n",
    "PFE_virus = virus_prediction(PFE)\n",
    "SNY_virus = virus_prediction(SNY)"
   ]
  },
  {
   "cell_type": "code",
   "execution_count": 41,
   "metadata": {},
   "outputs": [
    {
     "data": {
      "text/plain": [
       "[1.5023202380620113,\n",
       " 3.884939696575861,\n",
       " 2.50507460773941,\n",
       " 1.223162992864587,\n",
       " 1.847996763204491]"
      ]
     },
     "execution_count": 41,
     "metadata": {},
     "output_type": "execute_result"
    }
   ],
   "source": [
    "[MAE(GSK_virus,GSK_actual),MAE(JNJ_virus,JNJ_actual),MAE(MRK_virus,MRK_actual),MAE(PFE_virus,PFE_actual),MAE(SNY_virus,SNY_actual)]"
   ]
  },
  {
   "cell_type": "code",
   "execution_count": 43,
   "metadata": {},
   "outputs": [],
   "source": [
    "def flu_prediction(stock):\n",
    "    predict_list = []\n",
    "\n",
    "    for index_i in stock.index:\n",
    "        \n",
    "        #use loc and iloc to get the prior date\n",
    "        loc1 = stock.index.get_loc(index_i)\n",
    "        if(loc1<3):continue\n",
    "        predictor = [stock.iloc[loc1 - 1]['Adj Close'],stock.loc[index_i]['Flu']]\n",
    "        predictor = np.array(predictor)\n",
    "        predictor = predictor.reshape(1,-1)\n",
    "        #new list for variables and values for linear regression\n",
    "        X = []\n",
    "        Y = []\n",
    "        for index_j, rows in (stock[(stock.index<index_i) & (stock.index>\"2010-11-01\")]).iterrows():\n",
    "            loc2 = stock.index.get_loc(index_j)\n",
    "            predictors = [stock.iloc[loc2-1]['Adj Close'],stock.loc[index_j]['Flu']]\n",
    "            X.append(predictors)\n",
    "            actual = stock.loc[index_j]['Adj Close']\n",
    "            Y.append(actual)\n",
    "        #predictors and actual values in rolling window\n",
    "        X = np.array(X)\n",
    "        Y = np.array(Y)\n",
    "        #optimal parameters from OLS\n",
    "        linreg = LinearRegression()\n",
    "\n",
    "        linreg.fit(X, Y)\n",
    "        #predicted values    \n",
    "        pre = linreg.predict(predictor)[0]\n",
    "        predict_list.append(pre)\n",
    "    \n",
    "    return predict_list"
   ]
  },
  {
   "cell_type": "code",
   "execution_count": 44,
   "metadata": {},
   "outputs": [],
   "source": [
    "GSK_flu = flu_prediction(GSK)\n",
    "JNJ_flu = flu_prediction(JNJ)\n",
    "MRK_flu = flu_prediction(MRK)\n",
    "PFE_flu = flu_prediction(PFE)\n",
    "SNY_flu = flu_prediction(SNY)"
   ]
  },
  {
   "cell_type": "code",
   "execution_count": 45,
   "metadata": {},
   "outputs": [
    {
     "data": {
      "text/plain": [
       "[1.562869651415303,\n",
       " 7.92094004258198,\n",
       " 2.323067130376447,\n",
       " 1.1353780940803173,\n",
       " 1.7206915753004244]"
      ]
     },
     "execution_count": 45,
     "metadata": {},
     "output_type": "execute_result"
    }
   ],
   "source": [
    "[MAE(GSK_flu,GSK_actual),MAE(JNJ_flu,JNJ_actual),MAE(MRK_flu,MRK_actual),MAE(PFE_flu,PFE_actual),MAE(SNY_flu,SNY_actual)]"
   ]
  },
  {
   "cell_type": "code",
   "execution_count": 46,
   "metadata": {},
   "outputs": [],
   "source": [
    "def vaccine_prediction(stock):\n",
    "    predict_list = []\n",
    "\n",
    "    for index_i in stock.index:\n",
    "        \n",
    "        #use loc and iloc to get the prior date\n",
    "        loc1 = stock.index.get_loc(index_i)\n",
    "        if(loc1<3):continue\n",
    "        predictor = [stock.iloc[loc1 - 1]['Adj Close'],stock.loc[index_i]['Vaccine']]\n",
    "        predictor = np.array(predictor)\n",
    "        predictor = predictor.reshape(1,-1)\n",
    "        #new list for variables and values for linear regression\n",
    "        X = []\n",
    "        Y = []\n",
    "        for index_j, rows in (stock[(stock.index<index_i) & (stock.index>\"2010-11-01\")]).iterrows():\n",
    "            loc2 = stock.index.get_loc(index_j)\n",
    "            predictors = [stock.iloc[loc2-1]['Adj Close'],stock.loc[index_j]['Vaccine']]\n",
    "            X.append(predictors)\n",
    "            actual = stock.loc[index_j]['Adj Close']\n",
    "            Y.append(actual)\n",
    "        #predictors and actual values in rolling window\n",
    "        X = np.array(X)\n",
    "        Y = np.array(Y)\n",
    "        #optimal parameters from OLS\n",
    "        linreg = LinearRegression()\n",
    "\n",
    "        linreg.fit(X, Y)\n",
    "        #predicted values    \n",
    "        pre = linreg.predict(predictor)[0]\n",
    "        predict_list.append(pre)\n",
    "    \n",
    "    return predict_list"
   ]
  },
  {
   "cell_type": "code",
   "execution_count": 47,
   "metadata": {},
   "outputs": [],
   "source": [
    "GSK_vaccine = vaccine_prediction(GSK)\n",
    "JNJ_vaccine = vaccine_prediction(JNJ)\n",
    "MRK_vaccine = vaccine_prediction(MRK)\n",
    "PFE_vaccine = vaccine_prediction(PFE)\n",
    "SNY_vaccine = vaccine_prediction(SNY)"
   ]
  },
  {
   "cell_type": "code",
   "execution_count": 48,
   "metadata": {},
   "outputs": [
    {
     "data": {
      "text/plain": [
       "[1.378669866743721,\n",
       " 3.53399783821651,\n",
       " 2.176121586620879,\n",
       " 1.1698920382182272,\n",
       " 1.7662068763794736]"
      ]
     },
     "execution_count": 48,
     "metadata": {},
     "output_type": "execute_result"
    }
   ],
   "source": [
    "[MAE(GSK_vaccine,GSK_actual),MAE(JNJ_vaccine,JNJ_actual),MAE(MRK_vaccine,MRK_actual),MAE(PFE_vaccine,PFE_actual),MAE(SNY_vaccine,SNY_actual)]"
   ]
  },
  {
   "cell_type": "code",
   "execution_count": 66,
   "metadata": {},
   "outputs": [],
   "source": [
    "GSK_actual_1 = GSK['Adj Close'][115:]"
   ]
  },
  {
   "cell_type": "code",
   "execution_count": 67,
   "metadata": {},
   "outputs": [],
   "source": [
    "GSK_base_1 = GSK_base[112:]"
   ]
  },
  {
   "cell_type": "code",
   "execution_count": 68,
   "metadata": {},
   "outputs": [],
   "source": [
    "GSK_vaccine_1 = GSK_vaccine[112:]"
   ]
  },
  {
   "cell_type": "code",
   "execution_count": 69,
   "metadata": {},
   "outputs": [
    {
     "data": {
      "text/plain": [
       "[40.55868182862533,\n",
       " 40.48464711687588,\n",
       " 39.68775621194112,\n",
       " 38.89017057212023,\n",
       " 37.232462933517354,\n",
       " 32.78409681743313]"
      ]
     },
     "execution_count": 69,
     "metadata": {},
     "output_type": "execute_result"
    }
   ],
   "source": [
    "GSK_vaccine_1"
   ]
  },
  {
   "cell_type": "code",
   "execution_count": 80,
   "metadata": {},
   "outputs": [
    {
     "data": {
      "text/plain": [
       "1.6373225927366908"
      ]
     },
     "execution_count": 80,
     "metadata": {},
     "output_type": "execute_result"
    }
   ],
   "source": [
    "MAE(GSK_actual[20:80],GSK_base[23:83])"
   ]
  },
  {
   "cell_type": "code",
   "execution_count": 71,
   "metadata": {},
   "outputs": [
    {
     "data": {
      "text/plain": [
       "2.0733501409411303"
      ]
     },
     "execution_count": 71,
     "metadata": {},
     "output_type": "execute_result"
    }
   ],
   "source": [
    "MAE(GSK_actual_1,GSK_vaccine_1)"
   ]
  },
  {
   "cell_type": "code",
   "execution_count": 62,
   "metadata": {},
   "outputs": [],
   "source": [
    "GSK_flu_1 = GSK_flu[106:]\n",
    "GSK_virus_1 = GSK_virus[106:]"
   ]
  },
  {
   "cell_type": "code",
   "execution_count": 63,
   "metadata": {},
   "outputs": [
    {
     "data": {
      "text/plain": [
       "2.036787784291073"
      ]
     },
     "execution_count": 63,
     "metadata": {},
     "output_type": "execute_result"
    }
   ],
   "source": [
    "MAE(GSK_actual_1,GSK_flu_1)"
   ]
  },
  {
   "cell_type": "code",
   "execution_count": 81,
   "metadata": {},
   "outputs": [
    {
     "data": {
      "text/plain": [
       "1.6534611744414525"
      ]
     },
     "execution_count": 81,
     "metadata": {},
     "output_type": "execute_result"
    }
   ],
   "source": [
    "MAE(GSK_actual[20:80],GSK_virus[23:83])"
   ]
  },
  {
   "cell_type": "code",
   "execution_count": 83,
   "metadata": {},
   "outputs": [
    {
     "data": {
      "text/plain": [
       "[<matplotlib.lines.Line2D at 0x142f8989c10>]"
      ]
     },
     "execution_count": 83,
     "metadata": {},
     "output_type": "execute_result"
    },
    {
     "data": {
      "image/png": "[encoded data removed]",
      "text/plain": [
       "<Figure size 432x288 with 1 Axes>"
      ]
     },
     "metadata": {
      "needs_background": "light"
     },
     "output_type": "display_data"
    }
   ],
   "source": [
    "plt.plot(GSK.index[3:],GSK_actual,'r')\n",
    "plt.plot(GSK.index[3:],GSK_base,'b')\n",
    "plt.plot(GSK.index[3:],GSK_vaccine,'g')"
   ]
  },
  {
   "cell_type": "code",
   "execution_count": null,
   "metadata": {},
   "outputs": [],
   "source": []
  }
 ],
 "metadata": {
  "kernelspec": {
   "display_name": "Python [conda env:root] *",
   "language": "python",
   "name": "conda-root-py"
  },
  "language_info": {
   "codemirror_mode": {
    "name": "ipython",
    "version": 3
   },
   "file_extension": ".py",
   "mimetype": "text/x-python",
   "name": "python",
   "nbconvert_exporter": "python",
   "pygments_lexer": "ipython3",
   "version": "3.8.3"
  }
 },
 "nbformat": 4,
 "nbformat_minor": 4
}
